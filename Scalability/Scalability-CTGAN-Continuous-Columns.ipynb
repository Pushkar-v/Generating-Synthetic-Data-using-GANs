{
 "cells": [
  {
   "cell_type": "markdown",
   "metadata": {},
   "source": [
    "# Timing CTGAN module"
   ]
  },
  {
   "cell_type": "markdown",
   "metadata": {},
   "source": [
    "# Result"
   ]
  },
  {
   "cell_type": "markdown",
   "metadata": {},
   "source": [
    "### Altering Columns\n",
    "| Data | # Rows  | # Continuous | # Categorical  | Time (Minutes) |\n",
    "|:---:|---:|---:|---:|---:|\n",
    "| Wisconsin | 569 | 30 | 0  | 50 |\n",
    "| Wisconsin | 569 | 14  | 0  | 30 |\n",
    "| Wisconsin | 569 | 7  | 0  | 11 |\n",
    "| Wisconsin | 569 | 2  |  0 | 6 |\n",
    "| Wisconsin | 1138 | 30  |  0 |  |\n",
    "\n",
    "\n",
    "### Altering Rows\n",
    "| Data | # Rows  | # Continuous | # Categorical  | Time (Minutes) |\n",
    "|:---:|---:|---:|---:|---:|\n",
    "| Wisconsin | 1138 | 30 | 0  |  |\n",
    "| Wisconsin |  | 30  | 0  |  |\n",
    "| Wisconsin |  | 30 | 0  |  |\n",
    "| Wisconsin |  | 30 |  0 |  |\n",
    "| Wisconsin |  | 30 |  0 |  |"
   ]
  },
  {
   "cell_type": "markdown",
   "metadata": {},
   "source": [
    "## All Numeric Dataset"
   ]
  },
  {
   "cell_type": "code",
   "execution_count": 10,
   "metadata": {},
   "outputs": [],
   "source": [
    "import pandas as pd\n",
    "import numpy as numpy\n",
    "import time\n",
    "\n",
    "from ctgan import CTGANSynthesizer"
   ]
  },
  {
   "cell_type": "code",
   "execution_count": 11,
   "metadata": {},
   "outputs": [
    {
     "data": {
      "text/plain": [
       "(100000, 26)"
      ]
     },
     "execution_count": 11,
     "metadata": {},
     "output_type": "execute_result"
    }
   ],
   "source": [
    "data = pd.read_csv('D:\\Scalability Check\\ContinuousData.csv', sep = ',')\n",
    "data.shape"
   ]
  },
  {
   "cell_type": "code",
   "execution_count": 12,
   "metadata": {},
   "outputs": [
    {
     "data": {
      "text/plain": [
       "Index(['SUBJECT_ID', 'NUMCALLOUT', 'NUMCPTEVENTS', 'NUMDIAGNOSIS',\n",
       "       'NUMOUTEVENTS', 'NUMRX', 'NUMPROCEVENTS', 'NUMMICROLABEVENTS',\n",
       "       'NUMPROC', 'NUMTRANSFERS', 'NUMINPUTEVENTS', 'NUMLABEVENTS',\n",
       "       'NUMNOTEVENTS', 'NUMCALLOUT1', 'NUMCPTEVENTS1', 'NUMDIAGNOSIS1',\n",
       "       'NUMOUTEVENTS1', 'NUMRX1', 'NUMPROCEVENTS1', 'NUMMICROLABEVENTS1',\n",
       "       'NUMPROC1', 'NUMTRANSFERS1', 'NUMINPUTEVENTS1', 'NUMLABEVENTS1',\n",
       "       'NUMNOTEVENTS1', 'NUMOUTEVENTS1.1'],\n",
       "      dtype='object')"
      ]
     },
     "execution_count": 12,
     "metadata": {},
     "output_type": "execute_result"
    }
   ],
   "source": [
    "data.columns"
   ]
  },
  {
   "cell_type": "markdown",
   "metadata": {},
   "source": [
    "## Altering Number of Columns"
   ]
  },
  {
   "cell_type": "code",
   "execution_count": 13,
   "metadata": {
    "scrolled": true
   },
   "outputs": [
    {
     "name": "stdout",
     "output_type": "stream",
     "text": [
      "Epoch 1, Loss G: 1.8624, Loss D: -2.8645\n",
      "Epoch 2, Loss G: 2.9613, Loss D: -7.2735\n",
      "Epoch 3, Loss G: 3.4529, Loss D: -13.9147\n",
      "Epoch 4, Loss G: 3.9001, Loss D: -19.6635\n",
      "Epoch 5, Loss G: 4.3962, Loss D: -27.6213\n",
      "125.23268175125122\n",
      "data shape: (100000, 5)\n"
     ]
    }
   ],
   "source": [
    "a = time.time()\n",
    "ctgan = CTGANSynthesizer()\n",
    "ctgan.fit(data.iloc[:, 1:6], epochs = 5)\n",
    "b = time.time()\n",
    "\n",
    "print(b-a)\n",
    "print('data shape:', data.iloc[:, 1:6].shape)"
   ]
  },
  {
   "cell_type": "code",
   "execution_count": 14,
   "metadata": {
    "scrolled": true
   },
   "outputs": [
    {
     "name": "stdout",
     "output_type": "stream",
     "text": [
      "Epoch 1, Loss G: 3.2455, Loss D: -3.3851\n",
      "Epoch 2, Loss G: 5.2486, Loss D: -13.3089\n",
      "Epoch 3, Loss G: 6.0259, Loss D: -21.4990\n",
      "Epoch 4, Loss G: 6.6195, Loss D: -35.7598\n",
      "Epoch 5, Loss G: 7.6161, Loss D: -49.6385\n",
      "178.376366853714\n",
      "data shape: (100000, 10)\n"
     ]
    }
   ],
   "source": [
    "a = time.time()\n",
    "ctgan = CTGANSynthesizer()\n",
    "ctgan.fit(data.iloc[:, 1:11],  epochs = 5)\n",
    "b = time.time()\n",
    "\n",
    "print(b-a)\n",
    "print('data shape:', data.iloc[:, 1:11].shape)"
   ]
  },
  {
   "cell_type": "code",
   "execution_count": 15,
   "metadata": {
    "scrolled": true
   },
   "outputs": [
    {
     "name": "stdout",
     "output_type": "stream",
     "text": [
      "Epoch 1, Loss G: 3.2932, Loss D: -3.6429\n",
      "Epoch 2, Loss G: 6.5861, Loss D: -15.6749\n",
      "Epoch 3, Loss G: 7.9077, Loss D: -28.7074\n",
      "Epoch 4, Loss G: 8.9233, Loss D: -47.3787\n",
      "Epoch 5, Loss G: 9.9636, Loss D: -62.0450\n",
      "294.372759103775\n",
      "data shape: (100000, 15)\n"
     ]
    }
   ],
   "source": [
    "discrete_columns = data.iloc[:, 1:16].columns\n",
    "a = time.time()\n",
    "ctgan = CTGANSynthesizer()\n",
    "ctgan.fit(data.iloc[:, 1:16],  epochs = 5)\n",
    "b = time.time()\n",
    "\n",
    "print(b-a)\n",
    "print('data shape:', data.iloc[:, 1:16].shape)"
   ]
  },
  {
   "cell_type": "code",
   "execution_count": 16,
   "metadata": {},
   "outputs": [
    {
     "name": "stdout",
     "output_type": "stream",
     "text": [
      "Epoch 1, Loss G: 4.2129, Loss D: -5.2813\n",
      "Epoch 2, Loss G: 7.4187, Loss D: -18.1319\n",
      "Epoch 3, Loss G: 9.2158, Loss D: -35.9031\n",
      "Epoch 4, Loss G: 10.8016, Loss D: -55.3212\n",
      "Epoch 5, Loss G: 12.6938, Loss D: -83.1213\n",
      "546.6985368728638\n",
      "data shape: (100000, 20)\n"
     ]
    }
   ],
   "source": [
    "discrete_columns = data.iloc[:, 1:21].columns\n",
    "a = time.time()\n",
    "ctgan = CTGANSynthesizer()\n",
    "ctgan.fit(data.iloc[:, 1:21],  epochs = 5)\n",
    "b = time.time()\n",
    "\n",
    "print(b-a)\n",
    "print('data shape:', data.iloc[:, 1:21].shape) "
   ]
  },
  {
   "cell_type": "code",
   "execution_count": 17,
   "metadata": {},
   "outputs": [
    {
     "name": "stdout",
     "output_type": "stream",
     "text": [
      "Epoch 1, Loss G: 4.8032, Loss D: -6.6683\n",
      "Epoch 2, Loss G: 8.5527, Loss D: -22.2181\n",
      "Epoch 3, Loss G: 11.5664, Loss D: -44.0916\n",
      "Epoch 4, Loss G: 13.3712, Loss D: -68.1134\n",
      "Epoch 5, Loss G: 15.1985, Loss D: -98.3056\n",
      "479.48450899124146\n",
      "data shape: (100000, 25)\n"
     ]
    }
   ],
   "source": [
    "discrete_columns = data.iloc[:, 1:26].columns\n",
    "a = time.time()\n",
    "ctgan = CTGANSynthesizer()\n",
    "ctgan.fit(data.iloc[:, 1:26],  epochs = 5)\n",
    "b = time.time()\n",
    "\n",
    "print(b-a)\n",
    "print('data shape:', data.iloc[:, 1:26].shape) "
   ]
  },
  {
   "cell_type": "code",
   "execution_count": null,
   "metadata": {},
   "outputs": [],
   "source": []
  }
 ],
 "metadata": {
  "kernelspec": {
   "display_name": "Python 3",
   "language": "python",
   "name": "python3"
  },
  "language_info": {
   "codemirror_mode": {
    "name": "ipython",
    "version": 3
   },
   "file_extension": ".py",
   "mimetype": "text/x-python",
   "name": "python",
   "nbconvert_exporter": "python",
   "pygments_lexer": "ipython3",
   "version": "3.7.4"
  }
 },
 "nbformat": 4,
 "nbformat_minor": 2
}
