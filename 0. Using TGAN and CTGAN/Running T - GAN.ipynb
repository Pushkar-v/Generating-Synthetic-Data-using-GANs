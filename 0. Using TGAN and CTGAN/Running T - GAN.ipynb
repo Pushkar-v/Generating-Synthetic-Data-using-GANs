{
 "cells": [
  {
   "cell_type": "markdown",
   "metadata": {},
   "source": [
    "Package Reference: https://pypi.org/project/tgan/  \n",
    "Documentation    : https://sdv-dev.github.io/TGAN/  \n",
    "Github           : https://github.com/sdv-dev/TGAN"
   ]
  },
  {
   "cell_type": "markdown",
   "metadata": {},
   "source": [
    "## Install the Package"
   ]
  },
  {
   "cell_type": "code",
   "execution_count": null,
   "metadata": {},
   "outputs": [],
   "source": [
    "pip install tgan"
   ]
  },
  {
   "cell_type": "markdown",
   "metadata": {},
   "source": [
    "## Load Data"
   ]
  },
  {
   "cell_type": "code",
   "execution_count": null,
   "metadata": {},
   "outputs": [],
   "source": [
    "data = pd.read_csv('data.csv')"
   ]
  },
  {
   "cell_type": "markdown",
   "metadata": {},
   "source": [
    "### TGAN requires you to define continuous columns so that they can be modelled separately\n",
    "\n",
    "Then Run the below code to execute the code"
   ]
  },
  {
   "cell_type": "code",
   "execution_count": null,
   "metadata": {},
   "outputs": [],
   "source": [
    "from tgan.model import TGANModel\n",
    "\n",
    "\n",
    "tgan = TGANModel(continuous_columns)\n",
    "tgan.fit(data)"
   ]
  },
  {
   "cell_type": "markdown",
   "metadata": {},
   "source": [
    "### After the algorithm has fit the data, the sample method can be used to sample the learned data"
   ]
  },
  {
   "cell_type": "code",
   "execution_count": null,
   "metadata": {},
   "outputs": [],
   "source": [
    "num_samples = 100000\n",
    "samples = tgan.sample(num_samples)"
   ]
  },
  {
   "cell_type": "markdown",
   "metadata": {},
   "source": [
    "### The algorithm by default runs for 5 epochs. however, if desired the max_epoch argument can be used to increase the number of epochs\n",
    "\n",
    "The following algorithm will train for 100  epochs"
   ]
  },
  {
   "cell_type": "code",
   "execution_count": null,
   "metadata": {},
   "outputs": [],
   "source": [
    "tgan = TGANModel(continuous_columns, max_epoch=100)"
   ]
  },
  {
   "cell_type": "markdown",
   "metadata": {},
   "source": [
    "### Similarly, there are multiple hyperparameters that can be modified when training the algorithm"
   ]
  },
  {
   "cell_type": "code",
   "execution_count": null,
   "metadata": {},
   "outputs": [],
   "source": [
    "tgan = TGANModel(\n",
    "       continuous_columns,\n",
    "       max_epoch=5,              # Number of epochs to use during training.\n",
    "       steps_per_epoch=10000,    # Number of steps to run on each epoch.\n",
    "       save_checkpoints=True,    # Weather the algorithm will save weights at each step\n",
    "       restore_session=True,     # Option to continue training using previously saved weights\n",
    "       batch_size=200,           # Batch Size when Training the Neural Network\n",
    "       z_dim=200,                # Number of dimensions in the noise input for the generator.\n",
    "       l2norm=0.00001,           # L2 reguralization coefficient when computing losses\n",
    "       learning_rate=0.001,      # Learning rate for the optimizer\n",
    "       num_gen_rnn=100,          # Number of units in rnn cell in generator.\n",
    "       num_gen_feature=100,      # Number of units in fully connected layer in generator.\n",
    "       num_dis_layers=1,         # Number of layers in discriminator.\n",
    "       num_dis_hidden=100,       # Number of units per layer in discriminator.\n",
    "       optimizer='AdamOptimizer' # Optimizer (str, default=AdamOptimizer): Name of the optimizer to use during fit, possible                                      values are: [GradientDescentOptimizer, AdamOptimizer, AdadeltaOptimizer].\n",
    "       )"
   ]
  }
 ],
 "metadata": {
  "kernelspec": {
   "display_name": "Python 3",
   "language": "python",
   "name": "python3"
  },
  "language_info": {
   "codemirror_mode": {
    "name": "ipython",
    "version": 3
   },
   "file_extension": ".py",
   "mimetype": "text/x-python",
   "name": "python",
   "nbconvert_exporter": "python",
   "pygments_lexer": "ipython3",
   "version": "3.7.6"
  }
 },
 "nbformat": 4,
 "nbformat_minor": 4
}
