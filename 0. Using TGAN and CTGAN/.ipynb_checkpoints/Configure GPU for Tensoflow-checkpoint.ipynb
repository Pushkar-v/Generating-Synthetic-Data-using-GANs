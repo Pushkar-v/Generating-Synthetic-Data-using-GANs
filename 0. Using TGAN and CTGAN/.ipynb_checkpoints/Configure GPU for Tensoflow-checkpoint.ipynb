{
 "cells": [
  {
   "cell_type": "markdown",
   "metadata": {},
   "source": [
    "## Configuring GPU for Tensorflow\n",
    "\n",
    "To take advantage of GPU for better faster training of Neural networks, the system must be equipped with a CUDA enabled GPU card with a compatibility for CUDA 3.5 or higher. See the list of [CUDA-enabled GPU cards](https://developer.nvidia.com/cuda-gpus)\n",
    "\n",
    "This is also a guide for the same [https://www.tensorflow.org/install/gpu](https://www.tensorflow.org/install/gpu)\n",
    "\n",
    "\n",
    "## Required Python Packages\n",
    "\n",
    "To install latest version of Tensorflow"
   ]
  },
  {
   "cell_type": "code",
   "execution_count": null,
   "metadata": {},
   "outputs": [],
   "source": [
    "pip install tensorflow"
   ]
  },
  {
   "cell_type": "markdown",
   "metadata": {},
   "source": [
    "For releases 1.15 and older, CPU and GPU packages are separate:"
   ]
  },
  {
   "cell_type": "code",
   "execution_count": null,
   "metadata": {},
   "outputs": [],
   "source": [
    "pip install tensorflow==1.15      # CPU\n",
    "pip install tensorflow-gpu==1.15  # GPU"
   ]
  },
  {
   "cell_type": "markdown",
   "metadata": {},
   "source": [
    "## Software requirements\n",
    "\n",
    "The following NVIDIA® software must be installed on your system:\n",
    "\n",
    "- [NVIDIA® GPU drivers](https://www.nvidia.com/drivers) —CUDA 10.1 requires 418.x or higher.\n",
    "- [CUDA® Toolkit](https://developer.nvidia.com/cuda-toolkit-archive) —TensorFlow supports CUDA 10.1 (TensorFlow >= 2.1.0)\n",
    "- [CUPTI](http://docs.nvidia.com/cuda/cupti/) ships with the CUDA Toolkit.\n",
    "- [cuDNN SDK](https://developer.nvidia.com/cudnn) (>= 7.6)\n",
    "- *(Optional)* [TensorRT 6.0](https://docs.nvidia.com/deeplearning/sdk/tensorrt-install-guide/index.html) to improve latency and throughput for inference on some models.\n",
    "\n",
    "finally, Add the CUDA, CUPTI, and cuDNN installation directories to the `%PATH%` environmental variable. For example, if the CUDA Toolkit is installed to `C:\\Program Files\\NVIDIA GPU Computing Toolkit\\CUDA\\v10.1` and cuDNN to `C:\\tools\\cuda`, update your `%PATH%` to match:"
   ]
  },
  {
   "cell_type": "markdown",
   "metadata": {},
   "source": [
    "    SET PATH=C:\\Program Files\\NVIDIA GPU Computing Toolkit\\CUDA\\v10.1\\bin;%PATH%\n",
    "    SET PATH=C:\\Program Files\\NVIDIA GPU Computing Toolkit\\CUDA\\v10.1\\extras\\CUPTI\\libx64;%PATH%\n",
    "    SET PATH=C:\\Program Files\\NVIDIA GPU Computing Toolkit\\CUDA\\v10.1\\include;%PATH%\n",
    "    SET PATH=C:\\tools\\cuda\\bin;%PATH%"
   ]
  },
  {
   "cell_type": "markdown",
   "metadata": {},
   "source": [
    "To Check if Tensorflow is is properly configured with the GPU, the following code can be run in the python console"
   ]
  },
  {
   "cell_type": "code",
   "execution_count": null,
   "metadata": {},
   "outputs": [],
   "source": [
    "from tensorflow.python.client import device_lib\n",
    "print(device_lib.list_local_devices())"
   ]
  },
  {
   "cell_type": "markdown",
   "metadata": {},
   "source": [
    "If properly configured, the command will list out all the devices available for Tensorflow to use\n",
    "\n",
    "    Sample Output\n",
    "\n",
    "    [name: \"/cpu:0\" device_type: \"CPU\" memory_limit: 268435456 locality { } incarnation: 4402277519343584096,\n",
    "\n",
    "    name: \"/gpu:0\" device_type: \"GPU\" memory_limit: 6772842168 locality { bus_id: 1 } incarnation: 7471795903849088328 physical_device_desc: \"device: 0, name: GeForce GTX 1070, pci bus id: 0000:05:00.0\"]"
   ]
  },
  {
   "cell_type": "code",
   "execution_count": null,
   "metadata": {},
   "outputs": [],
   "source": []
  }
 ],
 "metadata": {
  "kernelspec": {
   "display_name": "Python 3",
   "language": "python",
   "name": "python3"
  },
  "language_info": {
   "codemirror_mode": {
    "name": "ipython",
    "version": 3
   },
   "file_extension": ".py",
   "mimetype": "text/x-python",
   "name": "python",
   "nbconvert_exporter": "python",
   "pygments_lexer": "ipython3",
   "version": "3.7.6"
  }
 },
 "nbformat": 4,
 "nbformat_minor": 4
}
