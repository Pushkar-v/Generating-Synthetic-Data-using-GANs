{
 "cells": [
  {
   "cell_type": "markdown",
   "metadata": {},
   "source": [
    "###### Timing TGAN module"
   ]
  },
  {
   "cell_type": "markdown",
   "metadata": {},
   "source": [
    "# Result"
   ]
  },
  {
   "cell_type": "markdown",
   "metadata": {},
   "source": [
    "### Altering Columns\n",
    "| Data | # Rows  | # Continuous | # Categorical  | Time (Minutes) |\n",
    "|:---:|---:|---:|---:|---:|\n",
    "| Wisconsin | 569 | 30 | 0  | 50 |\n",
    "| Wisconsin | 569 | 14  | 0  | 30 |\n",
    "| Wisconsin | 569 | 7  | 0  | 11 |\n",
    "| Wisconsin | 569 | 2  |  0 | 6 |\n",
    "| Wisconsin | 1138 | 30  |  0 |  |\n",
    "\n",
    "\n",
    "### Altering Rows\n",
    "| Data | # Rows  | # Continuous | # Categorical  | Time (Minutes) |\n",
    "|:---:|---:|---:|---:|---:|\n",
    "| Wisconsin | 1138 | 30 | 0  |  |\n",
    "| Wisconsin |  | 30  | 0  |  |\n",
    "| Wisconsin |  | 30 | 0  |  |\n",
    "| Wisconsin |  | 30 |  0 |  |\n",
    "| Wisconsin |  | 30 |  0 |  |"
   ]
  },
  {
   "cell_type": "markdown",
   "metadata": {},
   "source": [
    "## All Numeric Dataset"
   ]
  },
  {
   "cell_type": "code",
   "execution_count": 3,
   "metadata": {},
   "outputs": [],
   "source": [
    "import pandas as pd\n",
    "import numpy as numpy\n",
    "import time\n",
    "\n",
    "from ctgan import CTGANSynthesizer"
   ]
  },
  {
   "cell_type": "code",
   "execution_count": 4,
   "metadata": {},
   "outputs": [
    {
     "name": "stdout",
     "output_type": "stream",
     "text": [
      "(100000, 26)\n"
     ]
    }
   ],
   "source": [
    "data = pd.read_csv('D:\\Scalability Check\\ContinuousData.csv', sep = ',')\n",
    "print(data.shape)"
   ]
  },
  {
   "cell_type": "code",
   "execution_count": 5,
   "metadata": {},
   "outputs": [
    {
     "data": {
      "text/html": [
       "<div>\n",
       "<style scoped>\n",
       "    .dataframe tbody tr th:only-of-type {\n",
       "        vertical-align: middle;\n",
       "    }\n",
       "\n",
       "    .dataframe tbody tr th {\n",
       "        vertical-align: top;\n",
       "    }\n",
       "\n",
       "    .dataframe thead th {\n",
       "        text-align: right;\n",
       "    }\n",
       "</style>\n",
       "<table border=\"1\" class=\"dataframe\">\n",
       "  <thead>\n",
       "    <tr style=\"text-align: right;\">\n",
       "      <th></th>\n",
       "      <th>SUBJECT_ID</th>\n",
       "      <th>NUMCALLOUT</th>\n",
       "      <th>NUMCPTEVENTS</th>\n",
       "      <th>NUMDIAGNOSIS</th>\n",
       "      <th>NUMOUTEVENTS</th>\n",
       "      <th>NUMRX</th>\n",
       "      <th>NUMPROCEVENTS</th>\n",
       "      <th>NUMMICROLABEVENTS</th>\n",
       "      <th>NUMPROC</th>\n",
       "      <th>NUMTRANSFERS</th>\n",
       "      <th>...</th>\n",
       "      <th>NUMOUTEVENTS1</th>\n",
       "      <th>NUMRX1</th>\n",
       "      <th>NUMPROCEVENTS1</th>\n",
       "      <th>NUMMICROLABEVENTS1</th>\n",
       "      <th>NUMPROC1</th>\n",
       "      <th>NUMTRANSFERS1</th>\n",
       "      <th>NUMINPUTEVENTS1</th>\n",
       "      <th>NUMLABEVENTS1</th>\n",
       "      <th>NUMNOTEVENTS1</th>\n",
       "      <th>NUMOUTEVENTS1.1</th>\n",
       "    </tr>\n",
       "  </thead>\n",
       "  <tbody>\n",
       "    <tr>\n",
       "      <td>0</td>\n",
       "      <td>22</td>\n",
       "      <td>0</td>\n",
       "      <td>0</td>\n",
       "      <td>7</td>\n",
       "      <td>7</td>\n",
       "      <td>0</td>\n",
       "      <td>0</td>\n",
       "      <td>1</td>\n",
       "      <td>3</td>\n",
       "      <td>2</td>\n",
       "      <td>...</td>\n",
       "      <td>7</td>\n",
       "      <td>0</td>\n",
       "      <td>0</td>\n",
       "      <td>1</td>\n",
       "      <td>3</td>\n",
       "      <td>2</td>\n",
       "      <td>6</td>\n",
       "      <td>91</td>\n",
       "      <td>10</td>\n",
       "      <td>7</td>\n",
       "    </tr>\n",
       "    <tr>\n",
       "      <td>1</td>\n",
       "      <td>23</td>\n",
       "      <td>0</td>\n",
       "      <td>0</td>\n",
       "      <td>8</td>\n",
       "      <td>62</td>\n",
       "      <td>69</td>\n",
       "      <td>0</td>\n",
       "      <td>1</td>\n",
       "      <td>7</td>\n",
       "      <td>4</td>\n",
       "      <td>...</td>\n",
       "      <td>62</td>\n",
       "      <td>69</td>\n",
       "      <td>0</td>\n",
       "      <td>1</td>\n",
       "      <td>7</td>\n",
       "      <td>4</td>\n",
       "      <td>180</td>\n",
       "      <td>208</td>\n",
       "      <td>12</td>\n",
       "      <td>62</td>\n",
       "    </tr>\n",
       "    <tr>\n",
       "      <td>2</td>\n",
       "      <td>23</td>\n",
       "      <td>1</td>\n",
       "      <td>6</td>\n",
       "      <td>10</td>\n",
       "      <td>29</td>\n",
       "      <td>69</td>\n",
       "      <td>4</td>\n",
       "      <td>1</td>\n",
       "      <td>1</td>\n",
       "      <td>5</td>\n",
       "      <td>...</td>\n",
       "      <td>29</td>\n",
       "      <td>69</td>\n",
       "      <td>4</td>\n",
       "      <td>1</td>\n",
       "      <td>1</td>\n",
       "      <td>5</td>\n",
       "      <td>0</td>\n",
       "      <td>221</td>\n",
       "      <td>17</td>\n",
       "      <td>29</td>\n",
       "    </tr>\n",
       "    <tr>\n",
       "      <td>3</td>\n",
       "      <td>24</td>\n",
       "      <td>0</td>\n",
       "      <td>4</td>\n",
       "      <td>4</td>\n",
       "      <td>2</td>\n",
       "      <td>26</td>\n",
       "      <td>0</td>\n",
       "      <td>0</td>\n",
       "      <td>6</td>\n",
       "      <td>3</td>\n",
       "      <td>...</td>\n",
       "      <td>2</td>\n",
       "      <td>26</td>\n",
       "      <td>0</td>\n",
       "      <td>0</td>\n",
       "      <td>6</td>\n",
       "      <td>3</td>\n",
       "      <td>50</td>\n",
       "      <td>99</td>\n",
       "      <td>5</td>\n",
       "      <td>2</td>\n",
       "    </tr>\n",
       "    <tr>\n",
       "      <td>4</td>\n",
       "      <td>25</td>\n",
       "      <td>0</td>\n",
       "      <td>4</td>\n",
       "      <td>4</td>\n",
       "      <td>59</td>\n",
       "      <td>67</td>\n",
       "      <td>0</td>\n",
       "      <td>2</td>\n",
       "      <td>9</td>\n",
       "      <td>4</td>\n",
       "      <td>...</td>\n",
       "      <td>59</td>\n",
       "      <td>67</td>\n",
       "      <td>0</td>\n",
       "      <td>2</td>\n",
       "      <td>9</td>\n",
       "      <td>4</td>\n",
       "      <td>483</td>\n",
       "      <td>315</td>\n",
       "      <td>20</td>\n",
       "      <td>59</td>\n",
       "    </tr>\n",
       "  </tbody>\n",
       "</table>\n",
       "<p>5 rows × 26 columns</p>\n",
       "</div>"
      ],
      "text/plain": [
       "   SUBJECT_ID  NUMCALLOUT  NUMCPTEVENTS  NUMDIAGNOSIS  NUMOUTEVENTS  NUMRX  \\\n",
       "0          22           0             0             7             7      0   \n",
       "1          23           0             0             8            62     69   \n",
       "2          23           1             6            10            29     69   \n",
       "3          24           0             4             4             2     26   \n",
       "4          25           0             4             4            59     67   \n",
       "\n",
       "   NUMPROCEVENTS  NUMMICROLABEVENTS  NUMPROC  NUMTRANSFERS  ...  \\\n",
       "0              0                  1        3             2  ...   \n",
       "1              0                  1        7             4  ...   \n",
       "2              4                  1        1             5  ...   \n",
       "3              0                  0        6             3  ...   \n",
       "4              0                  2        9             4  ...   \n",
       "\n",
       "   NUMOUTEVENTS1  NUMRX1  NUMPROCEVENTS1  NUMMICROLABEVENTS1  NUMPROC1  \\\n",
       "0              7       0               0                   1         3   \n",
       "1             62      69               0                   1         7   \n",
       "2             29      69               4                   1         1   \n",
       "3              2      26               0                   0         6   \n",
       "4             59      67               0                   2         9   \n",
       "\n",
       "   NUMTRANSFERS1  NUMINPUTEVENTS1  NUMLABEVENTS1  NUMNOTEVENTS1  \\\n",
       "0              2                6             91             10   \n",
       "1              4              180            208             12   \n",
       "2              5                0            221             17   \n",
       "3              3               50             99              5   \n",
       "4              4              483            315             20   \n",
       "\n",
       "   NUMOUTEVENTS1.1  \n",
       "0                7  \n",
       "1               62  \n",
       "2               29  \n",
       "3                2  \n",
       "4               59  \n",
       "\n",
       "[5 rows x 26 columns]"
      ]
     },
     "execution_count": 5,
     "metadata": {},
     "output_type": "execute_result"
    }
   ],
   "source": [
    "data.head()"
   ]
  },
  {
   "cell_type": "markdown",
   "metadata": {},
   "source": [
    "## Altering Number of Rows"
   ]
  },
  {
   "cell_type": "code",
   "execution_count": 10,
   "metadata": {
    "scrolled": true
   },
   "outputs": [
    {
     "name": "stdout",
     "output_type": "stream",
     "text": [
      "Epoch 1, Loss G: -0.0788, Loss D: -0.0866\n",
      "Epoch 2, Loss G: -0.1890, Loss D: -0.2678\n",
      "Epoch 3, Loss G: -0.3214, Loss D: -0.4066\n",
      "Epoch 4, Loss G: -0.5528, Loss D: -0.5712\n",
      "Epoch 5, Loss G: -0.8720, Loss D: -0.7735\n",
      "16.521539449691772\n",
      "data shape: (1000, 25)\n"
     ]
    }
   ],
   "source": [
    "a = time.time()\n",
    "ctgan = CTGANSynthesizer()\n",
    "ctgan.fit(data.iloc[:1000,1:], epochs = 5)\n",
    "b = time.time()\n",
    "\n",
    "print(b-a)\n",
    "print('data shape:', data.iloc[:1000,1:].shape)"
   ]
  },
  {
   "cell_type": "code",
   "execution_count": 11,
   "metadata": {
    "scrolled": true
   },
   "outputs": [
    {
     "name": "stdout",
     "output_type": "stream",
     "text": [
      "Epoch 1, Loss G: -1.6888, Loss D: -0.4847\n",
      "Epoch 2, Loss G: -2.1177, Loss D: -5.6082\n",
      "Epoch 3, Loss G: -2.3040, Loss D: -3.1252\n",
      "Epoch 4, Loss G: -1.9126, Loss D: -3.5499\n",
      "Epoch 5, Loss G: -1.5963, Loss D: -3.3451\n",
      "90.7307071685791\n",
      "data shape: (10000, 25)\n"
     ]
    }
   ],
   "source": [
    "a = time.time()\n",
    "ctgan = CTGANSynthesizer()\n",
    "ctgan.fit(data.iloc[:10000,1:], epochs = 5)\n",
    "b = time.time()\n",
    "\n",
    "print(b-a)\n",
    "print('data shape:', data.iloc[:10000,1:].shape)"
   ]
  },
  {
   "cell_type": "code",
   "execution_count": 12,
   "metadata": {
    "scrolled": true
   },
   "outputs": [
    {
     "name": "stdout",
     "output_type": "stream",
     "text": [
      "Epoch 1, Loss G: -2.9365, Loss D: -4.8588\n",
      "Epoch 2, Loss G: -2.5436, Loss D: -2.6609\n",
      "Epoch 3, Loss G: -1.5183, Loss D: -2.8945\n",
      "Epoch 4, Loss G: 0.6982, Loss D: -5.3616\n",
      "Epoch 5, Loss G: 3.2909, Loss D: -8.7925\n",
      "267.01140332221985\n",
      "data shape: (20000, 25)\n"
     ]
    }
   ],
   "source": [
    "a = time.time()\n",
    "ctgan = CTGANSynthesizer()\n",
    "ctgan.fit(data.iloc[:20000,1:], epochs = 5)\n",
    "b = time.time()\n",
    "\n",
    "print(b-a)\n",
    "print('data shape:', data.iloc[:20000,1:].shape)"
   ]
  },
  {
   "cell_type": "code",
   "execution_count": 13,
   "metadata": {},
   "outputs": [
    {
     "name": "stdout",
     "output_type": "stream",
     "text": [
      "Epoch 1, Loss G: -1.7384, Loss D: -1.5148\n",
      "Epoch 2, Loss G: 1.2943, Loss D: -5.1672\n",
      "Epoch 3, Loss G: 5.2091, Loss D: -9.6551\n",
      "Epoch 4, Loss G: 6.6481, Loss D: -13.9653\n",
      "Epoch 5, Loss G: 8.6091, Loss D: -22.0722\n",
      "301.14428091049194\n",
      "data shape: (40000, 25)\n"
     ]
    }
   ],
   "source": [
    "a = time.time()\n",
    "ctgan = CTGANSynthesizer()\n",
    "ctgan.fit(data.iloc[:40000,1:], epochs = 5)\n",
    "b = time.time()\n",
    "\n",
    "print(b-a)\n",
    "print('data shape:', data.iloc[:40000,1:].shape)"
   ]
  },
  {
   "cell_type": "code",
   "execution_count": 14,
   "metadata": {},
   "outputs": [
    {
     "name": "stdout",
     "output_type": "stream",
     "text": [
      "Epoch 1, Loss G: -0.6154, Loss D: 0.5039\n",
      "Epoch 2, Loss G: 6.6254, Loss D: -8.9208\n",
      "Epoch 3, Loss G: 8.7683, Loss D: -19.0587\n",
      "Epoch 4, Loss G: 10.1679, Loss D: -30.3835\n",
      "Epoch 5, Loss G: 11.6193, Loss D: -43.7205\n",
      "298.74908566474915\n",
      "data shape: (60000, 25)\n"
     ]
    }
   ],
   "source": [
    "a = time.time()\n",
    "ctgan = CTGANSynthesizer()\n",
    "ctgan.fit(data.iloc[:60000,1:], epochs = 5)\n",
    "b = time.time()\n",
    "\n",
    "print(b-a)\n",
    "print('data shape:', data.iloc[:60000,1:].shape)"
   ]
  },
  {
   "cell_type": "code",
   "execution_count": 15,
   "metadata": {},
   "outputs": [
    {
     "name": "stdout",
     "output_type": "stream",
     "text": [
      "Epoch 1, Loss G: -0.8000, Loss D: -0.2113\n",
      "Epoch 2, Loss G: 7.7947, Loss D: -15.4315\n",
      "Epoch 3, Loss G: 10.1294, Loss D: -29.9137\n",
      "Epoch 4, Loss G: 11.4902, Loss D: -48.2503\n",
      "Epoch 5, Loss G: 13.1642, Loss D: -68.8985\n",
      "385.57021379470825\n",
      "data shape: (80000, 25)\n"
     ]
    }
   ],
   "source": [
    "a = time.time()\n",
    "ctgan = CTGANSynthesizer()\n",
    "ctgan.fit(data.iloc[:80000,1:], epochs = 5)\n",
    "b = time.time()\n",
    "\n",
    "print(b-a)\n",
    "print('data shape:', data.iloc[:80000,1:].shape)"
   ]
  },
  {
   "cell_type": "code",
   "execution_count": 16,
   "metadata": {},
   "outputs": [
    {
     "name": "stdout",
     "output_type": "stream",
     "text": [
      "Epoch 1, Loss G: 5.1643, Loss D: -6.1108\n",
      "Epoch 2, Loss G: 9.2186, Loss D: -23.4818\n",
      "Epoch 3, Loss G: 11.0969, Loss D: -43.4771\n",
      "Epoch 4, Loss G: 13.4527, Loss D: -70.5242\n",
      "Epoch 5, Loss G: 15.5199, Loss D: -98.8099\n",
      "664.3978652954102\n",
      "data shape: (100000, 25)\n"
     ]
    }
   ],
   "source": [
    "a = time.time()\n",
    "ctgan = CTGANSynthesizer()\n",
    "ctgan.fit(data.iloc[:100000,1:], epochs = 5)\n",
    "b = time.time()\n",
    "\n",
    "print(b-a)\n",
    "print('data shape:', data.iloc[:100000,1:].shape)"
   ]
  },
  {
   "cell_type": "code",
   "execution_count": null,
   "metadata": {},
   "outputs": [],
   "source": []
  }
 ],
 "metadata": {
  "kernelspec": {
   "display_name": "Python 3",
   "language": "python",
   "name": "python3"
  },
  "language_info": {
   "codemirror_mode": {
    "name": "ipython",
    "version": 3
   },
   "file_extension": ".py",
   "mimetype": "text/x-python",
   "name": "python",
   "nbconvert_exporter": "python",
   "pygments_lexer": "ipython3",
   "version": "3.7.4"
  }
 },
 "nbformat": 4,
 "nbformat_minor": 2
}
