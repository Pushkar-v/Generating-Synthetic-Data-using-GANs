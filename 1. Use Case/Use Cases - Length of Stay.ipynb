{
 "cells": [
  {
   "cell_type": "markdown",
   "metadata": {},
   "source": [
    "## MIMIC-III Dataset\n",
    "\n",
    "We used MIMIC-III data for this project as it is an open source dataset and contains multiple tables which can be combined to prepare use cases. Data can be accesed on link provided below and in order to access data, few certifications are required which can be obtained by completing trainings on website. \n",
    "Medical Information Mart for Intensive Care Unit (MIMIC) III: Open source dataset developed by the MIT Lab comprising de-identified health data is a comprehensive clinical dataset of 40,000+ patients admitted in ICU. Few salient features of this databases include:\n",
    "- <b> 26 tables:</b> Comprehensive clinical dataset with different tables\n",
    "- <b> 40,000+ patients:</b> Data associated with multiple admissions of patients\n",
    "- <b> 65,000+ ICU admissions:</b> Admitted in ICUs at Beth Israel Deaconess Medical Centre, Boston, from 2001 to 2012\n",
    "- <b> PII data:</b> Includes patient sensitive details like demographics, diagnosis, laboratory tests, medications etc.\n",
    "- <b> Use cases:</b> Can be used for multiple analysis like clinical data (prescriptions), claims data (payer), members data (patient)\n",
    "\n",
    "For this project, we focus on using specific tables from this database and create 2 different use cases to help in model compatibility evaluation for both regression as well as classification problem\n",
    "\n",
    "The details of the use cases can be found in the following section.\n",
    "\n",
    "Source: https://mimic.physionet.org/gettingstarted/overview/"
   ]
  },
  {
   "cell_type": "markdown",
   "metadata": {},
   "source": [
    "## Use Cases\n",
    "\n",
    "### Use Case 1: Length of Stay - \n",
    "\n",
    "Predicting the length of stay in ICU using 4 out of 26 tables\n",
    "\n",
    "\n",
    "Use case: Out of variety of possible use cases from MIMIC III dataset we focus on single use case to predict the number of days a patient stays in the ICU to further generate synthetic data. This usecase seemed important to us because its always a benefit for payer to predict the tendency of the length of stay of a patient. It helps in changing the premium charged by the payer according to the comparison of predictions and baseline (the defined no. of days covered by a particular plan of the patient). For this use case the model utilises the total number of diagnosis that occured for different disease category for each patient.\n",
    "\n",
    "To build this use case we focus on primarily 4 tables.\n",
    "\n",
    "1. <b> Patients:</b> Every unique patient in the database (defines SUBJECT_ID) \n",
    "   <b> Columns like:</b> SUBJECT_ID, GENDER (count of rows: 46520 count of columns: 7)\n",
    "2. <b> Admissions:</b> Every unique hospitalization for each patient in the database (defines HADM_ID)\n",
    "   <b> Columns like:</b> SUBJECT_ID, HADM_ID, HOSPITAL_EXPIRE_FLAG, MARITAL_STATUS, ETHNICITY, ADMISSION_TYPE (count of rows: 58976 count of columns: 18 )\n",
    "3. <b> ICUSTAYS:</b> Every unique ICU stay in the database (defines ICUSTAY_ID)\n",
    "   <b> Columns like:</b> SUBJECT_ID, HADM_ID, LOS (count of rows: 61532 count of columns: 11 )\n",
    "4. <b> Diagnosis_ICD:</b> Hospital assigned diagnoses, coded using the International Statistical Classification of Diseases and Related Health Problems (ICD) system\n",
    "   <b> Columns like:</b> SUBJECT_ID, HADM_ID, NUMDIAGNOSIS (count of rows: 651047 count of columns: 5)\n",
    "\n",
    "#### Methodology\n",
    "1. <b> Load csv files:</b> Read the comma seperated files donwloaded from link (https://mimic.physionet.org/gettingstarted/overview/)\n",
    "2. <b> Merge tables: </b> Use 'SUBJECT_ID' to merge tables like ADMISSIONS, PATIENTS and ICU_STAYS and finally concatenate 'SUBJECT_ID' and 'HADM_ID' to form 'final_id' as composite key.\n",
    "3. <b> Prepare diagnosis dataset: </b> DIAGNOSIS_ICD table is used to map the disease category type using the first three code digits if ICD-9 code. The mapping is used to convert the unique 6984 ICD-9 codes into 18 different disease area categories and finally concatenate 'SUBJECT_ID' and 'HADM_ID' to form 'final_id' as composite key..\n",
    "4. <b> Pivot up diagnosis dataset: </b> After the mapping the disease categories using ICD-9 codes, the datset is pivoted up at the level of the 18 disease categories and the total count of diagnosis is being populated across 'final_id'\n",
    "5. <b> Merge pivoted diagnosis datset to the main dataset: </b> Finally, the above generated dataset is then merged to the main dataset using the 'final_id' as the key.\n",
    "\n",
    "Note: 6984 ICD-9 codes: The diagnosis dataset contains unique International Classification of Disease (ICD-9) codes                                                                            \n",
    "      18 primary categories: We consider categories of conditions for the predictive modeling\n",
    "Finally only the relevant columns required for the analysis are selected and we use the dataset for the synthetic data generation.\n",
    "The final data has 116354 rows and 27 columns.\n",
    "\n",
    "\n",
    "#### Final data includes\n",
    "- <b> Level of data:</b> Each instance in the final data set is unique admission for each patient and is defined by concatination of 'SUBJECT_ID' and 'HADM_ID' to form 'final_id'\n",
    "- <b> Target Variables:</b> 'LOS' (length of stay) is used as target variable\n",
    "- <b> Predictor variables:</b> 18 columns of different diagnosis category are used as predictor varibales.\n",
    "        These 18 categories are:\n",
    "        \"certain conditions originating in the perinatal period\"                      \n",
    "        \"complications of pregnancy, childbirth, and the puerperium\",\n",
    "        \"congenital anomalies\",                                                \n",
    "        \"diseases of the blood and blood-forming organs\",                       \n",
    "        \"diseases of the circulatory system\",                                   \n",
    "        \"diseases of the digestive system\",                                     \n",
    "        \"diseases of the genitourinary system\",                                 \n",
    "        \"diseases of the musculoskeletal system and connective tissue\",         \n",
    "        \"diseases of the nervous system\",                                       \n",
    "        \"diseases of the respiratory system\",                                   \n",
    "        \"diseases of the sense organs\",                                         \n",
    "        \"diseases of the skin and subcutaneous tissue\",                         \n",
    "        \"endocrine, nutritional and metabolic diseases, and immunity disorders\",                     \n",
    "        \"external causes of injury and supplemental classification\",            \n",
    "        \"infectious and parasitic diseases\",                                    \n",
    "        \"injury and poisoning\",                                                 \n",
    "        \"mental disorders\",                                                     \n",
    "        \"neoplasms\" and                                                            \n",
    "        \"symptoms, signs, and ill-defined conditions\".\n",
    "- <b> Other descriptive variables:</b> \"ADMISSION_TYPE\", \"MARITAL_STATUS\",\"INSURANCE\", \"ETHNICITY\", \"HOSPITAL_EXPIRE_FLAG\", \"GENDER\" and \"EXPIRE_FLAG\"\n",
    "       \n"
   ]
  },
  {
   "cell_type": "markdown",
   "metadata": {},
   "source": [
    "#### Code \n",
    "1. Import required libraries and read csv files\n",
    "2. Function to roll up tables"
   ]
  },
  {
   "cell_type": "markdown",
   "metadata": {},
   "source": [
    "#### 1. Import required libraries and read csv files"
   ]
  },
  {
   "cell_type": "code",
   "execution_count": 454,
   "metadata": {},
   "outputs": [],
   "source": [
    "# Imports\n",
    "import pandas as pd\n",
    "import numpy as np\n",
    "import matplotlib.pyplot as plt\n",
    "import seaborn as sns\n",
    "from sklearn.model_selection import train_test_split\n",
    "from sklearn.metrics import r2_score, mean_squared_error\n",
    "from sklearn.preprocessing import MinMaxScaler\n",
    "from sklearn.neighbors import KNeighborsRegressor\n",
    "from sklearn.linear_model import LinearRegression\n",
    "from sklearn.svm import SVR\n",
    "from sklearn.ensemble import RandomForestRegressor\n",
    "from sklearn.tree import DecisionTreeRegressor\n",
    "from scipy.stats import pearsonr\n",
    "from sklearn.ensemble import GradientBoostingRegressor\n",
    "from sklearn.linear_model import SGDRegressor\n",
    "import statsmodels.api as sm\n",
    "from sklearn.model_selection import GridSearchCV\n",
    "import seaborn as sns"
   ]
  },
  {
   "cell_type": "code",
   "execution_count": 455,
   "metadata": {},
   "outputs": [],
   "source": [
    "\n",
    "# Primary Admissions information\n",
    "df = pd.read_csv(r\"C:\\Users\\poona\\Desktop\\ELP\\mimic-iii-clinical-database-1.4\\mimic-iii-clinical-database-1.4\\ADMISSIONS.csv\")\n",
    "\n",
    "# Patient specific info such as gender\n",
    "df_pat = pd.read_csv(r\"C:\\Users\\poona\\Desktop\\ELP\\mimic-iii-clinical-database-1.4\\mimic-iii-clinical-database-1.4\\PATIENTS.csv\")\n",
    "\n",
    "# Diagnosis for each admission to hospital\n",
    "df_diagcode = pd.read_csv(r\"C:\\Users\\poona\\Desktop\\ELP\\mimic-iii-clinical-database-1.4\\mimic-iii-clinical-database-1.4\\DIAGNOSES_ICD.csv\")\n",
    "\n",
    "# Intensive Care Unit (ICU) for each admission to hospital\n",
    "df_icu = pd.read_csv(r\"C:\\Users\\poona\\Desktop\\ELP\\mimic-iii-clinical-database-1.4\\mimic-iii-clinical-database-1.4\\ICUSTAYS.csv\")\n"
   ]
  },
  {
   "cell_type": "markdown",
   "metadata": {},
   "source": [
    "## Patients dataset"
   ]
  },
  {
   "cell_type": "code",
   "execution_count": 456,
   "metadata": {},
   "outputs": [
    {
     "name": "stdout",
     "output_type": "stream",
     "text": [
      "Dataset has 58976 number of unique admission events.\n",
      "Dataset has 46520 number of unique patients.\n"
     ]
    }
   ],
   "source": [
    "print('Dataset has {} number of unique admission events.'.format(df['HADM_ID'].nunique()))\n",
    "print('Dataset has {} number of unique patients.'.format(df['SUBJECT_ID'].nunique()))"
   ]
  },
  {
   "cell_type": "code",
   "execution_count": 457,
   "metadata": {},
   "outputs": [],
   "source": [
    "# Convert admission and discharge times to datatime type\n",
    "df['ADMITTIME'] = pd.to_datetime(df['ADMITTIME'])\n",
    "df['DISCHTIME'] = pd.to_datetime(df['DISCHTIME'])\n",
    "\n",
    "# Calculating the Length of Stay variable using the difference between Discharge time and Admit time \n",
    "# Convert timedelta type into float 'days'. Note: There are 86400 seconds in a day\n",
    "df['LOS'] = (df['DISCHTIME'] - df['ADMITTIME']).dt.total_seconds()/86400"
   ]
  },
  {
   "cell_type": "code",
   "execution_count": 458,
   "metadata": {},
   "outputs": [
    {
     "data": {
      "text/plain": [
       "count    58976.000000\n",
       "mean        10.133916\n",
       "std         12.456682\n",
       "min         -0.945139\n",
       "25%          3.743750\n",
       "50%          6.467014\n",
       "75%         11.795139\n",
       "max        294.660417\n",
       "Name: LOS, dtype: float64"
      ]
     },
     "execution_count": 458,
     "metadata": {},
     "output_type": "execute_result"
    }
   ],
   "source": [
    "df['LOS'].describe()"
   ]
  },
  {
   "cell_type": "code",
   "execution_count": 459,
   "metadata": {},
   "outputs": [
    {
     "data": {
      "text/plain": [
       "count    58878.000000\n",
       "mean        10.151266\n",
       "std         12.459774\n",
       "min          0.001389\n",
       "25%          3.755556\n",
       "50%          6.489583\n",
       "75%         11.805556\n",
       "max        294.660417\n",
       "Name: LOS, dtype: float64"
      ]
     },
     "execution_count": 459,
     "metadata": {},
     "output_type": "execute_result"
    }
   ],
   "source": [
    "# Drop rows with negative LOS. The negative LOS means that the patient was brought dead to the ICU.\n",
    "df['LOS'][df['LOS'] > 0].describe()"
   ]
  },
  {
   "cell_type": "code",
   "execution_count": 460,
   "metadata": {},
   "outputs": [
    {
     "data": {
      "image/png": "[encoded data removed]",
      "text/plain": [
       "<Figure size 432x288 with 1 Axes>"
      ]
     },
     "metadata": {},
     "output_type": "display_data"
    }
   ],
   "source": [
    "# Plot LOS Distribution\n",
    "plt.hist(df['LOS'], bins=200, color = '0.75')\n",
    "plt.xlim(0, 100)\n",
    "plt.title('Distribution of LOS for all hospital admissions \\n incl. deceased')\n",
    "plt.ylabel('Count')\n",
    "plt.xlabel('Length-of-Stay (days)')\n",
    "plt.tick_params(top=False, right=False) \n",
    "plt.show();"
   ]
  },
  {
   "cell_type": "code",
   "execution_count": 461,
   "metadata": {},
   "outputs": [
    {
     "data": {
      "text/html": [
       "<div>\n",
       "<style scoped>\n",
       "    .dataframe tbody tr th:only-of-type {\n",
       "        vertical-align: middle;\n",
       "    }\n",
       "\n",
       "    .dataframe tbody tr th {\n",
       "        vertical-align: top;\n",
       "    }\n",
       "\n",
       "    .dataframe thead th {\n",
       "        text-align: right;\n",
       "    }\n",
       "</style>\n",
       "<table border=\"1\" class=\"dataframe\">\n",
       "  <thead>\n",
       "    <tr style=\"text-align: right;\">\n",
       "      <th></th>\n",
       "      <th>ROW_ID</th>\n",
       "      <th>SUBJECT_ID</th>\n",
       "      <th>HADM_ID</th>\n",
       "      <th>ADMITTIME</th>\n",
       "      <th>DISCHTIME</th>\n",
       "      <th>DEATHTIME</th>\n",
       "      <th>ADMISSION_TYPE</th>\n",
       "      <th>ADMISSION_LOCATION</th>\n",
       "      <th>DISCHARGE_LOCATION</th>\n",
       "      <th>INSURANCE</th>\n",
       "      <th>LANGUAGE</th>\n",
       "      <th>RELIGION</th>\n",
       "      <th>MARITAL_STATUS</th>\n",
       "      <th>ETHNICITY</th>\n",
       "      <th>EDREGTIME</th>\n",
       "      <th>EDOUTTIME</th>\n",
       "      <th>DIAGNOSIS</th>\n",
       "      <th>HOSPITAL_EXPIRE_FLAG</th>\n",
       "      <th>HAS_CHARTEVENTS_DATA</th>\n",
       "      <th>LOS</th>\n",
       "    </tr>\n",
       "  </thead>\n",
       "  <tbody>\n",
       "    <tr>\n",
       "      <th>0</th>\n",
       "      <td>21</td>\n",
       "      <td>22</td>\n",
       "      <td>165315</td>\n",
       "      <td>2196-04-09 12:26:00</td>\n",
       "      <td>2196-04-10 15:54:00</td>\n",
       "      <td>NaN</td>\n",
       "      <td>EMERGENCY</td>\n",
       "      <td>EMERGENCY ROOM ADMIT</td>\n",
       "      <td>DISC-TRAN CANCER/CHLDRN H</td>\n",
       "      <td>Private</td>\n",
       "      <td>NaN</td>\n",
       "      <td>UNOBTAINABLE</td>\n",
       "      <td>MARRIED</td>\n",
       "      <td>WHITE</td>\n",
       "      <td>2196-04-09 10:06:00</td>\n",
       "      <td>2196-04-09 13:24:00</td>\n",
       "      <td>BENZODIAZEPINE OVERDOSE</td>\n",
       "      <td>0</td>\n",
       "      <td>1</td>\n",
       "      <td>1.144444</td>\n",
       "    </tr>\n",
       "    <tr>\n",
       "      <th>1</th>\n",
       "      <td>22</td>\n",
       "      <td>23</td>\n",
       "      <td>152223</td>\n",
       "      <td>2153-09-03 07:15:00</td>\n",
       "      <td>2153-09-08 19:10:00</td>\n",
       "      <td>NaN</td>\n",
       "      <td>ELECTIVE</td>\n",
       "      <td>PHYS REFERRAL/NORMAL DELI</td>\n",
       "      <td>HOME HEALTH CARE</td>\n",
       "      <td>Medicare</td>\n",
       "      <td>NaN</td>\n",
       "      <td>CATHOLIC</td>\n",
       "      <td>MARRIED</td>\n",
       "      <td>WHITE</td>\n",
       "      <td>NaN</td>\n",
       "      <td>NaN</td>\n",
       "      <td>CORONARY ARTERY DISEASE\\CORONARY ARTERY BYPASS...</td>\n",
       "      <td>0</td>\n",
       "      <td>1</td>\n",
       "      <td>5.496528</td>\n",
       "    </tr>\n",
       "    <tr>\n",
       "      <th>2</th>\n",
       "      <td>23</td>\n",
       "      <td>23</td>\n",
       "      <td>124321</td>\n",
       "      <td>2157-10-18 19:34:00</td>\n",
       "      <td>2157-10-25 14:00:00</td>\n",
       "      <td>NaN</td>\n",
       "      <td>EMERGENCY</td>\n",
       "      <td>TRANSFER FROM HOSP/EXTRAM</td>\n",
       "      <td>HOME HEALTH CARE</td>\n",
       "      <td>Medicare</td>\n",
       "      <td>ENGL</td>\n",
       "      <td>CATHOLIC</td>\n",
       "      <td>MARRIED</td>\n",
       "      <td>WHITE</td>\n",
       "      <td>NaN</td>\n",
       "      <td>NaN</td>\n",
       "      <td>BRAIN MASS</td>\n",
       "      <td>0</td>\n",
       "      <td>1</td>\n",
       "      <td>6.768056</td>\n",
       "    </tr>\n",
       "    <tr>\n",
       "      <th>3</th>\n",
       "      <td>24</td>\n",
       "      <td>24</td>\n",
       "      <td>161859</td>\n",
       "      <td>2139-06-06 16:14:00</td>\n",
       "      <td>2139-06-09 12:48:00</td>\n",
       "      <td>NaN</td>\n",
       "      <td>EMERGENCY</td>\n",
       "      <td>TRANSFER FROM HOSP/EXTRAM</td>\n",
       "      <td>HOME</td>\n",
       "      <td>Private</td>\n",
       "      <td>NaN</td>\n",
       "      <td>PROTESTANT QUAKER</td>\n",
       "      <td>SINGLE</td>\n",
       "      <td>WHITE</td>\n",
       "      <td>NaN</td>\n",
       "      <td>NaN</td>\n",
       "      <td>INTERIOR MYOCARDIAL INFARCTION</td>\n",
       "      <td>0</td>\n",
       "      <td>1</td>\n",
       "      <td>2.856944</td>\n",
       "    </tr>\n",
       "    <tr>\n",
       "      <th>4</th>\n",
       "      <td>25</td>\n",
       "      <td>25</td>\n",
       "      <td>129635</td>\n",
       "      <td>2160-11-02 02:06:00</td>\n",
       "      <td>2160-11-05 14:55:00</td>\n",
       "      <td>NaN</td>\n",
       "      <td>EMERGENCY</td>\n",
       "      <td>EMERGENCY ROOM ADMIT</td>\n",
       "      <td>HOME</td>\n",
       "      <td>Private</td>\n",
       "      <td>NaN</td>\n",
       "      <td>UNOBTAINABLE</td>\n",
       "      <td>MARRIED</td>\n",
       "      <td>WHITE</td>\n",
       "      <td>2160-11-02 01:01:00</td>\n",
       "      <td>2160-11-02 04:27:00</td>\n",
       "      <td>ACUTE CORONARY SYNDROME</td>\n",
       "      <td>0</td>\n",
       "      <td>1</td>\n",
       "      <td>3.534028</td>\n",
       "    </tr>\n",
       "  </tbody>\n",
       "</table>\n",
       "</div>"
      ],
      "text/plain": [
       "   ROW_ID  SUBJECT_ID  HADM_ID           ADMITTIME           DISCHTIME  \\\n",
       "0      21          22   165315 2196-04-09 12:26:00 2196-04-10 15:54:00   \n",
       "1      22          23   152223 2153-09-03 07:15:00 2153-09-08 19:10:00   \n",
       "2      23          23   124321 2157-10-18 19:34:00 2157-10-25 14:00:00   \n",
       "3      24          24   161859 2139-06-06 16:14:00 2139-06-09 12:48:00   \n",
       "4      25          25   129635 2160-11-02 02:06:00 2160-11-05 14:55:00   \n",
       "\n",
       "  DEATHTIME ADMISSION_TYPE         ADMISSION_LOCATION  \\\n",
       "0       NaN      EMERGENCY       EMERGENCY ROOM ADMIT   \n",
       "1       NaN       ELECTIVE  PHYS REFERRAL/NORMAL DELI   \n",
       "2       NaN      EMERGENCY  TRANSFER FROM HOSP/EXTRAM   \n",
       "3       NaN      EMERGENCY  TRANSFER FROM HOSP/EXTRAM   \n",
       "4       NaN      EMERGENCY       EMERGENCY ROOM ADMIT   \n",
       "\n",
       "          DISCHARGE_LOCATION INSURANCE LANGUAGE           RELIGION  \\\n",
       "0  DISC-TRAN CANCER/CHLDRN H   Private      NaN       UNOBTAINABLE   \n",
       "1           HOME HEALTH CARE  Medicare      NaN           CATHOLIC   \n",
       "2           HOME HEALTH CARE  Medicare     ENGL           CATHOLIC   \n",
       "3                       HOME   Private      NaN  PROTESTANT QUAKER   \n",
       "4                       HOME   Private      NaN       UNOBTAINABLE   \n",
       "\n",
       "  MARITAL_STATUS ETHNICITY            EDREGTIME            EDOUTTIME  \\\n",
       "0        MARRIED     WHITE  2196-04-09 10:06:00  2196-04-09 13:24:00   \n",
       "1        MARRIED     WHITE                  NaN                  NaN   \n",
       "2        MARRIED     WHITE                  NaN                  NaN   \n",
       "3         SINGLE     WHITE                  NaN                  NaN   \n",
       "4        MARRIED     WHITE  2160-11-02 01:01:00  2160-11-02 04:27:00   \n",
       "\n",
       "                                           DIAGNOSIS  HOSPITAL_EXPIRE_FLAG  \\\n",
       "0                            BENZODIAZEPINE OVERDOSE                     0   \n",
       "1  CORONARY ARTERY DISEASE\\CORONARY ARTERY BYPASS...                     0   \n",
       "2                                         BRAIN MASS                     0   \n",
       "3                     INTERIOR MYOCARDIAL INFARCTION                     0   \n",
       "4                            ACUTE CORONARY SYNDROME                     0   \n",
       "\n",
       "   HAS_CHARTEVENTS_DATA       LOS  \n",
       "0                     1  1.144444  \n",
       "1                     1  5.496528  \n",
       "2                     1  6.768056  \n",
       "3                     1  2.856944  \n",
       "4                     1  3.534028  "
      ]
     },
     "execution_count": 461,
     "metadata": {},
     "output_type": "execute_result"
    }
   ],
   "source": [
    "df.head()"
   ]
  },
  {
   "cell_type": "code",
   "execution_count": 462,
   "metadata": {},
   "outputs": [],
   "source": [
    "# Drop LOS < 0 \n",
    "df = df[df['LOS'] > 0]"
   ]
  },
  {
   "cell_type": "code",
   "execution_count": 463,
   "metadata": {},
   "outputs": [],
   "source": [
    "# Dropping the columns that are not needed\n",
    "df.drop(columns=['DISCHTIME', 'ROW_ID', \n",
    "                'EDREGTIME', 'EDOUTTIME', 'HOSPITAL_EXPIRE_FLAG',\n",
    "                'HAS_CHARTEVENTS_DATA'], inplace=True)"
   ]
  },
  {
   "cell_type": "code",
   "execution_count": 464,
   "metadata": {},
   "outputs": [],
   "source": [
    "# Mapping the dead and alive value of patients who died in hospital as 1 and 0\n",
    "df['DECEASED'] = df['DEATHTIME'].notnull().map({True:1, False:0})"
   ]
  },
  {
   "cell_type": "code",
   "execution_count": 465,
   "metadata": {},
   "outputs": [
    {
     "name": "stdout",
     "output_type": "stream",
     "text": [
      "5774 of 46445 patients died in the hospital\n"
     ]
    }
   ],
   "source": [
    "print(\"{} of {} patients died in the hospital\".format(df['DECEASED'].sum(), \n",
    "                                                     df['SUBJECT_ID'].nunique()))"
   ]
  },
  {
   "cell_type": "code",
   "execution_count": 466,
   "metadata": {},
   "outputs": [
    {
     "data": {
      "text/plain": [
       "count    53104.000000\n",
       "mean        10.138174\n",
       "std         12.284461\n",
       "min          0.014583\n",
       "25%          3.866667\n",
       "50%          6.565972\n",
       "75%         11.711632\n",
       "max        294.660417\n",
       "Name: LOS, dtype: float64"
      ]
     },
     "execution_count": 466,
     "metadata": {},
     "output_type": "execute_result"
    }
   ],
   "source": [
    "# Descriptive analysis of patients who died during the stay in ICU\n",
    "df['LOS'].loc[df['DECEASED'] == 0].describe()"
   ]
  },
  {
   "cell_type": "code",
   "execution_count": 467,
   "metadata": {},
   "outputs": [
    {
     "name": "stdout",
     "output_type": "stream",
     "text": [
      "Mean LOS:  10.151266378028323\n",
      "Median LOS:  6.489583333333333\n",
      "Min LOS:  0.0013888888888888892\n",
      "Max LOS:  294.66041666666666\n"
     ]
    }
   ],
   "source": [
    "# Descriptive analysis of LOS metric (target variable)\n",
    "mean_los = df['LOS'].mean() \n",
    "median_los = df['LOS'].median()\n",
    "min_los = df['LOS'].min()\n",
    "max_los = df['LOS'].max()\n",
    "\n",
    "print(\"Mean LOS: \",mean_los)\n",
    "print(\"Median LOS: \",median_los)\n",
    "print(\"Min LOS: \",min_los)\n",
    "print(\"Max LOS: \",max_los)"
   ]
  },
  {
   "cell_type": "code",
   "execution_count": 468,
   "metadata": {},
   "outputs": [
    {
     "name": "stderr",
     "output_type": "stream",
     "text": [
      "C:\\ProgramData\\Anaconda3\\lib\\site-packages\\pandas\\core\\indexing.py:190: SettingWithCopyWarning: \n",
      "A value is trying to be set on a copy of a slice from a DataFrame\n",
      "\n",
      "See the caveats in the documentation: http://pandas.pydata.org/pandas-docs/stable/indexing.html#indexing-view-versus-copy\n",
      "  self._setitem_with_indexer(indexer, value)\n"
     ]
    },
    {
     "data": {
      "text/plain": [
       "WHITE                     41268\n",
       "OTHER/UNKNOWN              7700\n",
       "BLACK/AFRICAN AMERICAN     5779\n",
       "HISPANIC/LATINO            2125\n",
       "ASIAN                      2006\n",
       "Name: ETHNICITY, dtype: int64"
      ]
     },
     "execution_count": 468,
     "metadata": {},
     "output_type": "execute_result"
    }
   ],
   "source": [
    "# Club the Ethnicity categories into 5 broad categories\n",
    "df['ETHNICITY'].replace(regex=r'^ASIAN\\D*', value='ASIAN', inplace=True)\n",
    "df['ETHNICITY'].replace(regex=r'^WHITE\\D*', value='WHITE', inplace=True)\n",
    "df['ETHNICITY'].replace(regex=r'^HISPANIC\\D*', value='HISPANIC/LATINO', inplace=True)\n",
    "df['ETHNICITY'].replace(regex=r'^BLACK\\D*', value='BLACK/AFRICAN AMERICAN', inplace=True)\n",
    "df['ETHNICITY'].replace(['UNABLE TO OBTAIN', 'OTHER', 'PATIENT DECLINED TO ANSWER', \n",
    "                         'UNKNOWN/NOT SPECIFIED'], value='OTHER/UNKNOWN', inplace=True)\n",
    "df['ETHNICITY'].loc[~df['ETHNICITY'].isin(df['ETHNICITY'].value_counts().nlargest(5).index.tolist())] = 'OTHER/UNKNOWN'\n",
    "df['ETHNICITY'].value_counts()"
   ]
  },
  {
   "cell_type": "markdown",
   "metadata": {},
   "source": [
    "#### 2. Function to plot graphs for exploratory analysis"
   ]
  },
  {
   "cell_type": "code",
   "execution_count": 469,
   "metadata": {},
   "outputs": [],
   "source": [
    "# Bar plot function\n",
    "def plot_los_groupby(variable, size=(7,4)):\n",
    "    ''' \n",
    "    Plot Median LOS by df categorical series name \n",
    "    '''\n",
    "    results = df[[variable, 'LOS']].groupby(variable).median().reset_index()\n",
    "    values = list(results['LOS'].values)\n",
    "    labels = list(results[variable].values)\n",
    "\n",
    "    fig, ax = plt.subplots(figsize=size)\n",
    "    ind = range(len(results))\n",
    "    ax.barh(ind, values, align='center', height=0.6, color = '#55a868', alpha=0.8)\n",
    "    ax.set_yticks(ind)\n",
    "    ax.set_yticklabels(labels)\n",
    "    ax.set_xlabel('Median Length of Stay (days)')\n",
    "    ax.tick_params(left=False, top=False, right=False) \n",
    "    ax.set_title('Comparison of {} labels'.format(variable))\n",
    "    \n",
    "    plt.tight_layout()\n",
    "    plt.show();\n",
    "    \n",
    "# Boxplot function\n",
    "def boxplot_los_groupby(variable, los_range=(-1, 30), size=(8,4)):\n",
    "    ''' \n",
    "    Boxplot of LOS by df categorical series name \n",
    "    '''\n",
    "    results = df[[variable, 'LOS']].groupby(variable).median().reset_index()\n",
    "\n",
    "    categories = results[variable].values.tolist()\n",
    "\n",
    "    hist_data = []\n",
    "    for cat in categories:\n",
    "        hist_data.append(df['LOS'].loc[df[variable]==cat].values)\n",
    "\n",
    "    fig, ax = plt.subplots(figsize=size)\n",
    "    ax.boxplot(hist_data, 0, '', vert=False)\n",
    "    ax.set_xlim(los_range)\n",
    "    ax.set_yticklabels(categories)\n",
    "    ax.set_xlabel('Length of Stay (days)')\n",
    "    ax.tick_params(left=False, right=False) \n",
    "    ax.set_title('Comparison of {} categories'.format(variable))\n",
    "    plt.tight_layout()\n",
    "    plt.show();\n",
    "\n"
   ]
  },
  {
   "cell_type": "code",
   "execution_count": 470,
   "metadata": {},
   "outputs": [
    {
     "data": {
      "image/png": "[encoded data removed]",
      "text/plain": [
       "<Figure size 576x288 with 1 Axes>"
      ]
     },
     "metadata": {},
     "output_type": "display_data"
    }
   ],
   "source": [
    "boxplot_los_groupby('ETHNICITY', los_range=(-1, 30))"
   ]
  },
  {
   "cell_type": "markdown",
   "metadata": {},
   "source": [
    "## Admission Dataset"
   ]
  },
  {
   "cell_type": "markdown",
   "metadata": {},
   "source": [
    "### Admission Type"
   ]
  },
  {
   "cell_type": "code",
   "execution_count": 471,
   "metadata": {},
   "outputs": [
    {
     "data": {
      "text/plain": [
       "EMERGENCY    41989\n",
       "NEWBORN       7854\n",
       "ELECTIVE      7702\n",
       "URGENT        1333\n",
       "Name: ADMISSION_TYPE, dtype: int64"
      ]
     },
     "execution_count": 471,
     "metadata": {},
     "output_type": "execute_result"
    }
   ],
   "source": [
    "df['ADMISSION_TYPE'].value_counts()"
   ]
  },
  {
   "cell_type": "code",
   "execution_count": 472,
   "metadata": {},
   "outputs": [
    {
     "data": {
      "image/png": "[encoded data removed]",
      "text/plain": [
       "<Figure size 504x288 with 1 Axes>"
      ]
     },
     "metadata": {},
     "output_type": "display_data"
    }
   ],
   "source": [
    "plot_los_groupby('ADMISSION_TYPE')"
   ]
  },
  {
   "cell_type": "code",
   "execution_count": 473,
   "metadata": {},
   "outputs": [
    {
     "data": {
      "image/png": "[encoded data removed]",
      "text/plain": [
       "<Figure size 504x288 with 1 Axes>"
      ]
     },
     "metadata": {},
     "output_type": "display_data"
    }
   ],
   "source": [
    "boxplot_los_groupby('ADMISSION_TYPE', los_range=(-5, 35), size=(7, 4))"
   ]
  },
  {
   "cell_type": "markdown",
   "metadata": {},
   "source": [
    "### Insurance"
   ]
  },
  {
   "cell_type": "code",
   "execution_count": 474,
   "metadata": {},
   "outputs": [
    {
     "data": {
      "text/plain": [
       "Medicare      28174\n",
       "Private       22542\n",
       "Medicaid       5778\n",
       "Government     1781\n",
       "Self Pay        603\n",
       "Name: INSURANCE, dtype: int64"
      ]
     },
     "execution_count": 474,
     "metadata": {},
     "output_type": "execute_result"
    }
   ],
   "source": [
    "df['INSURANCE'].value_counts()"
   ]
  },
  {
   "cell_type": "code",
   "execution_count": 475,
   "metadata": {},
   "outputs": [
    {
     "data": {
      "image/png": "[encoded data removed]",
      "text/plain": [
       "<Figure size 504x288 with 1 Axes>"
      ]
     },
     "metadata": {},
     "output_type": "display_data"
    }
   ],
   "source": [
    "plot_los_groupby('INSURANCE')"
   ]
  },
  {
   "cell_type": "code",
   "execution_count": 476,
   "metadata": {},
   "outputs": [
    {
     "data": {
      "image/png": "[encoded data removed]",
      "text/plain": [
       "<Figure size 504x288 with 1 Axes>"
      ]
     },
     "metadata": {},
     "output_type": "display_data"
    }
   ],
   "source": [
    "boxplot_los_groupby('INSURANCE', los_range=(-5, 30), size=(7, 4))"
   ]
  },
  {
   "cell_type": "markdown",
   "metadata": {},
   "source": [
    "### Marital Status"
   ]
  },
  {
   "cell_type": "code",
   "execution_count": 477,
   "metadata": {},
   "outputs": [
    {
     "data": {
      "text/plain": [
       "MARRIED              24199\n",
       "SINGLE               13238\n",
       "NaN                  10097\n",
       "WIDOWED               7204\n",
       "DIVORCED              3211\n",
       "SEPARATED              571\n",
       "UNKNOWN (DEFAULT)      343\n",
       "LIFE PARTNER            15\n",
       "Name: MARITAL_STATUS, dtype: int64"
      ]
     },
     "execution_count": 477,
     "metadata": {},
     "output_type": "execute_result"
    }
   ],
   "source": [
    "df['MARITAL_STATUS'].value_counts(dropna=False)"
   ]
  },
  {
   "cell_type": "code",
   "execution_count": 478,
   "metadata": {},
   "outputs": [
    {
     "data": {
      "text/plain": [
       "MARRIED              24199\n",
       "SINGLE               13238\n",
       "UNKNOWN (DEFAULT)    10440\n",
       "WIDOWED               7204\n",
       "DIVORCED              3211\n",
       "SEPARATED              571\n",
       "LIFE PARTNER            15\n",
       "Name: MARITAL_STATUS, dtype: int64"
      ]
     },
     "execution_count": 478,
     "metadata": {},
     "output_type": "execute_result"
    }
   ],
   "source": [
    "# Replacing NAs as'UNKNOWN'\n",
    "df['MARITAL_STATUS'] = df['MARITAL_STATUS'].fillna('UNKNOWN (DEFAULT)')\n",
    "df['MARITAL_STATUS'].value_counts(dropna=False)"
   ]
  },
  {
   "cell_type": "code",
   "execution_count": 479,
   "metadata": {},
   "outputs": [
    {
     "data": {
      "image/png": "[encoded data removed]",
      "text/plain": [
       "<Figure size 504x288 with 1 Axes>"
      ]
     },
     "metadata": {},
     "output_type": "display_data"
    }
   ],
   "source": [
    "plot_los_groupby('MARITAL_STATUS')"
   ]
  },
  {
   "cell_type": "code",
   "execution_count": 480,
   "metadata": {},
   "outputs": [
    {
     "data": {
      "image/png": "[encoded data removed]",
      "text/plain": [
       "<Figure size 576x288 with 1 Axes>"
      ]
     },
     "metadata": {},
     "output_type": "display_data"
    }
   ],
   "source": [
    "boxplot_los_groupby('MARITAL_STATUS')"
   ]
  },
  {
   "cell_type": "markdown",
   "metadata": {},
   "source": [
    "## Diagnosis Dataset"
   ]
  },
  {
   "cell_type": "markdown",
   "metadata": {},
   "source": [
    "Because it's not feasible to have 6985 unique values to use as features for predicting LOS, The diagnosis were reduced into more general categories. After researching the ICD9 coding methodology, the super categories in which the diagnosis codes are arranged are as follows:\n",
    "\n",
    "- 001–139: infectious and parasitic diseases\n",
    "- 140–239: neoplasms\n",
    "- 240–279: endocrine, nutritional and metabolic diseases, and immunity disorders\n",
    "- 280–289: diseases of the blood and blood-forming organs\n",
    "- 290–319: mental disorders\n",
    "- 320–389: diseases of the nervous system and sense organs\n",
    "- 390–459: diseases of the circulatory system\n",
    "- 460–519: diseases of the respiratory system\n",
    "- 520–579: diseases of the digestive system\n",
    "- 580–629: diseases of the genitourinary system\n",
    "- 630–679: complications of pregnancy, childbirth, and the puerperium\n",
    "- 680–709: diseases of the skin and subcutaneous tissue\n",
    "- 710–739: diseases of the musculoskeletal system and connective tissue\n",
    "- 740–759: congenital anomalies\n",
    "- 760–779: certain conditions originating in the perinatal period\n",
    "- 780–799: symptoms, signs, and ill-defined conditions\n",
    "- 800–999: injury and poisoning\n",
    "- E and V codes: external causes of injury and supplemental classification, using 999 as placeholder even though it overlaps with complications of medical care\n",
    "\n",
    "Source of these categories: https://en.wikipedia.org/wiki/List_of_ICD-9_codes"
   ]
  },
  {
   "cell_type": "code",
   "execution_count": 481,
   "metadata": {},
   "outputs": [],
   "source": [
    "# Filter out E and V codes since processing will be done on the numeric first 3 values\n",
    "df_diagcode['recode'] = df_diagcode['ICD9_CODE']\n",
    "df_diagcode['recode'] = df_diagcode['recode'][~df_diagcode['recode'].str.contains(\"[a-zA-Z]\").fillna(False)]\n",
    "df_diagcode['recode'].fillna(value='999', inplace=True)"
   ]
  },
  {
   "cell_type": "code",
   "execution_count": 482,
   "metadata": {},
   "outputs": [],
   "source": [
    "df_diagcode['recode'] = df_diagcode['recode'].str.slice(start=0, stop=3, step=1)\n",
    "df_diagcode['recode'] = df_diagcode['recode'].astype(int)"
   ]
  },
  {
   "cell_type": "code",
   "execution_count": 483,
   "metadata": {},
   "outputs": [],
   "source": [
    "# ICD-9 Main Category ranges\n",
    "icd9_ranges = [(1, 140), (140, 240), (240, 280), (280, 290), (290, 320), (320, 390), \n",
    "               (390, 460), (460, 520), (520, 580), (580, 630), (630, 680), (680, 710),\n",
    "               (710, 740), (740, 760), (760, 780), (780, 800), (800, 1000), (1000, 2000)]\n",
    "\n",
    "# Associated category names\n",
    "diag_dict = {0: 'infectious', 1: 'neoplasms', 2: 'endocrine', 3: 'blood',\n",
    "             4: 'mental', 5: 'nervous', 6: 'circulatory', 7: 'respiratory',\n",
    "             8: 'digestive', 9: 'genitourinary', 10: 'pregnancy', 11: 'skin', \n",
    "             12: 'muscular', 13: 'congenital', 14: 'prenatal', 15: 'misc',\n",
    "             16: 'injury', 17: 'misc'}\n",
    "\n",
    "# Re-code in terms of integer\n",
    "for num, cat_range in enumerate(icd9_ranges):\n",
    "    df_diagcode['recode'] = np.where(df_diagcode['recode'].between(cat_range[0],cat_range[1]), \n",
    "            num, df_diagcode['recode'])\n",
    "    \n",
    "# Convert integer to category name using diag_dict\n",
    "df_diagcode['recode'] = df_diagcode['recode']\n",
    "df_diagcode['cat'] = df_diagcode['recode'].replace(diag_dict)"
   ]
  },
  {
   "cell_type": "code",
   "execution_count": 484,
   "metadata": {},
   "outputs": [],
   "source": [
    "# Create list of diagnoses for each admission\n",
    "hadm_list = df_diagcode.groupby('HADM_ID')['cat'].apply(list).reset_index()"
   ]
  },
  {
   "cell_type": "code",
   "execution_count": 485,
   "metadata": {},
   "outputs": [],
   "source": [
    "# Convert diagnoses list into hospital admission-item matrix\n",
    "hadm_item = pd.get_dummies(hadm_list['cat'].apply(pd.Series).stack()).sum(level=0)"
   ]
  },
  {
   "cell_type": "code",
   "execution_count": 486,
   "metadata": {},
   "outputs": [],
   "source": [
    "# Join the above created dataset using HADM_ID to the hadm_list\n",
    "hadm_item = hadm_item.join(hadm_list['HADM_ID'], how=\"outer\")"
   ]
  },
  {
   "cell_type": "code",
   "execution_count": 487,
   "metadata": {},
   "outputs": [],
   "source": [
    "# Finally merging with main admissions df\n",
    "df = df.merge(hadm_item, how='inner', on='HADM_ID')"
   ]
  },
  {
   "cell_type": "code",
   "execution_count": 488,
   "metadata": {},
   "outputs": [
    {
     "data": {
      "image/png": "[encoded data removed]",
      "text/plain": [
       "<Figure size 504x360 with 1 Axes>"
      ]
     },
     "metadata": {},
     "output_type": "display_data"
    }
   ],
   "source": [
    "# Explore median LOS by diagnosis category as defined above\n",
    "diag_cat_list = ['skin', 'infectious',  'misc', 'genitourinary', 'neoplasms', 'blood', 'respiratory', \n",
    "                  'congenital','nervous', 'muscular', 'digestive', 'mental', 'endocrine', 'injury',\n",
    "                 'circulatory', 'prenatal',  'pregnancy']\n",
    "\n",
    "results = []\n",
    "for variable in diag_cat_list:\n",
    "    results.append(df[[variable, 'LOS']].groupby(variable).median().reset_index().values[1][1])\n",
    "\n",
    "sns.set(style=\"whitegrid\")\n",
    "\n",
    "fig, ax = plt.subplots(figsize=(7,5))\n",
    "ind = range(len(results))\n",
    "ax.barh(ind, results, align='edge', color = '#55a868', alpha=0.8)\n",
    "ax.set_yticks(ind)\n",
    "ax.set_yticklabels(diag_cat_list)\n",
    "ax.set_xlabel('Median Length of Stay (days)')\n",
    "ax.tick_params(left=False, right=False, top=False) \n",
    "ax.set_title('Comparison of Diagnoses'.format(variable))\n",
    "plt.show();"
   ]
  },
  {
   "cell_type": "markdown",
   "metadata": {},
   "source": [
    "## Patients dataset"
   ]
  },
  {
   "cell_type": "code",
   "execution_count": 489,
   "metadata": {},
   "outputs": [
    {
     "data": {
      "text/plain": [
       "M    26121\n",
       "F    20399\n",
       "Name: GENDER, dtype: int64"
      ]
     },
     "execution_count": 489,
     "metadata": {},
     "output_type": "execute_result"
    }
   ],
   "source": [
    "df_pat['GENDER'].value_counts()"
   ]
  },
  {
   "cell_type": "code",
   "execution_count": 490,
   "metadata": {},
   "outputs": [],
   "source": [
    "df_pat['GENDER'].replace({'M': 0, 'F':1}, inplace=True)"
   ]
  },
  {
   "cell_type": "code",
   "execution_count": 491,
   "metadata": {},
   "outputs": [],
   "source": [
    "df = df.merge(df_pat, how='inner', on='SUBJECT_ID')"
   ]
  },
  {
   "cell_type": "markdown",
   "metadata": {},
   "source": [
    "## ICU STAYS dataset"
   ]
  },
  {
   "cell_type": "code",
   "execution_count": 492,
   "metadata": {},
   "outputs": [
    {
     "data": {
      "text/plain": [
       "57786"
      ]
     },
     "execution_count": 492,
     "metadata": {},
     "output_type": "execute_result"
    }
   ],
   "source": [
    "df_icu['HADM_ID'].nunique()"
   ]
  },
  {
   "cell_type": "code",
   "execution_count": 493,
   "metadata": {},
   "outputs": [
    {
     "data": {
      "text/html": [
       "<div>\n",
       "<style scoped>\n",
       "    .dataframe tbody tr th:only-of-type {\n",
       "        vertical-align: middle;\n",
       "    }\n",
       "\n",
       "    .dataframe tbody tr th {\n",
       "        vertical-align: top;\n",
       "    }\n",
       "\n",
       "    .dataframe thead th {\n",
       "        text-align: right;\n",
       "    }\n",
       "</style>\n",
       "<table border=\"1\" class=\"dataframe\">\n",
       "  <thead>\n",
       "    <tr style=\"text-align: right;\">\n",
       "      <th></th>\n",
       "      <th>ROW_ID</th>\n",
       "      <th>SUBJECT_ID</th>\n",
       "      <th>HADM_ID</th>\n",
       "      <th>ICUSTAY_ID</th>\n",
       "      <th>FIRST_WARDID</th>\n",
       "      <th>LAST_WARDID</th>\n",
       "      <th>LOS</th>\n",
       "    </tr>\n",
       "    <tr>\n",
       "      <th>FIRST_CAREUNIT</th>\n",
       "      <th></th>\n",
       "      <th></th>\n",
       "      <th></th>\n",
       "      <th></th>\n",
       "      <th></th>\n",
       "      <th></th>\n",
       "      <th></th>\n",
       "    </tr>\n",
       "  </thead>\n",
       "  <tbody>\n",
       "    <tr>\n",
       "      <th>CCU</th>\n",
       "      <td>29091.5</td>\n",
       "      <td>22964.5</td>\n",
       "      <td>150074.5</td>\n",
       "      <td>249373.5</td>\n",
       "      <td>7.0</td>\n",
       "      <td>7.0</td>\n",
       "      <td>2.19775</td>\n",
       "    </tr>\n",
       "    <tr>\n",
       "      <th>CSRU</th>\n",
       "      <td>31002.5</td>\n",
       "      <td>24488.0</td>\n",
       "      <td>150225.0</td>\n",
       "      <td>250492.0</td>\n",
       "      <td>14.0</td>\n",
       "      <td>14.0</td>\n",
       "      <td>2.15290</td>\n",
       "    </tr>\n",
       "    <tr>\n",
       "      <th>MICU</th>\n",
       "      <td>33612.5</td>\n",
       "      <td>26489.5</td>\n",
       "      <td>150368.0</td>\n",
       "      <td>250524.0</td>\n",
       "      <td>50.0</td>\n",
       "      <td>50.0</td>\n",
       "      <td>2.09550</td>\n",
       "    </tr>\n",
       "    <tr>\n",
       "      <th>NICU</th>\n",
       "      <td>19581.5</td>\n",
       "      <td>15456.5</td>\n",
       "      <td>149206.5</td>\n",
       "      <td>249308.0</td>\n",
       "      <td>56.0</td>\n",
       "      <td>56.0</td>\n",
       "      <td>0.80250</td>\n",
       "    </tr>\n",
       "    <tr>\n",
       "      <th>SICU</th>\n",
       "      <td>38089.0</td>\n",
       "      <td>30084.0</td>\n",
       "      <td>149744.0</td>\n",
       "      <td>248649.0</td>\n",
       "      <td>33.0</td>\n",
       "      <td>33.0</td>\n",
       "      <td>2.25220</td>\n",
       "    </tr>\n",
       "    <tr>\n",
       "      <th>TSICU</th>\n",
       "      <td>36382.0</td>\n",
       "      <td>28716.0</td>\n",
       "      <td>148915.0</td>\n",
       "      <td>250685.0</td>\n",
       "      <td>14.0</td>\n",
       "      <td>14.0</td>\n",
       "      <td>2.11150</td>\n",
       "    </tr>\n",
       "  </tbody>\n",
       "</table>\n",
       "</div>"
      ],
      "text/plain": [
       "                 ROW_ID  SUBJECT_ID   HADM_ID  ICUSTAY_ID  FIRST_WARDID  \\\n",
       "FIRST_CAREUNIT                                                            \n",
       "CCU             29091.5     22964.5  150074.5    249373.5           7.0   \n",
       "CSRU            31002.5     24488.0  150225.0    250492.0          14.0   \n",
       "MICU            33612.5     26489.5  150368.0    250524.0          50.0   \n",
       "NICU            19581.5     15456.5  149206.5    249308.0          56.0   \n",
       "SICU            38089.0     30084.0  149744.0    248649.0          33.0   \n",
       "TSICU           36382.0     28716.0  148915.0    250685.0          14.0   \n",
       "\n",
       "                LAST_WARDID      LOS  \n",
       "FIRST_CAREUNIT                        \n",
       "CCU                     7.0  2.19775  \n",
       "CSRU                   14.0  2.15290  \n",
       "MICU                   50.0  2.09550  \n",
       "NICU                   56.0  0.80250  \n",
       "SICU                   33.0  2.25220  \n",
       "TSICU                  14.0  2.11150  "
      ]
     },
     "execution_count": 493,
     "metadata": {},
     "output_type": "execute_result"
    }
   ],
   "source": [
    "df_icu.groupby('FIRST_CAREUNIT').median()"
   ]
  },
  {
   "cell_type": "code",
   "execution_count": 494,
   "metadata": {},
   "outputs": [],
   "source": [
    "# Converting different categories of first care unit into ICU and NICU groups\n",
    "df_icu['FIRST_CAREUNIT'].replace({'CCU': 'ICU', 'CSRU': 'ICU', 'MICU': 'ICU',\n",
    "                                  'SICU': 'ICU', 'TSICU': 'ICU'}, inplace=True)"
   ]
  },
  {
   "cell_type": "code",
   "execution_count": 495,
   "metadata": {},
   "outputs": [],
   "source": [
    "df_icu['cat'] = df_icu['FIRST_CAREUNIT']\n",
    "icu_list = df_icu.groupby('HADM_ID')['cat'].apply(list).reset_index()"
   ]
  },
  {
   "cell_type": "code",
   "execution_count": 496,
   "metadata": {},
   "outputs": [
    {
     "data": {
      "text/plain": [
       "ICU     53432\n",
       "NICU     8100\n",
       "Name: FIRST_CAREUNIT, dtype: int64"
      ]
     },
     "execution_count": 496,
     "metadata": {},
     "output_type": "execute_result"
    }
   ],
   "source": [
    "df_icu['FIRST_CAREUNIT'].value_counts()"
   ]
  },
  {
   "cell_type": "code",
   "execution_count": 497,
   "metadata": {},
   "outputs": [],
   "source": [
    "# Create admission-ICU matrix\n",
    "icu_item = pd.get_dummies(icu_list['cat'].apply(pd.Series).stack()).sum(level=0)\n",
    "icu_item[icu_item >= 1] = 1\n",
    "icu_item = icu_item.join(icu_list['HADM_ID'], how=\"outer\")"
   ]
  },
  {
   "cell_type": "code",
   "execution_count": 498,
   "metadata": {},
   "outputs": [],
   "source": [
    "# Merge ICU data with main dataFrame\n",
    "df = df.merge(icu_item, how='outer', on='HADM_ID')"
   ]
  },
  {
   "cell_type": "code",
   "execution_count": 499,
   "metadata": {},
   "outputs": [],
   "source": [
    "# Replace NA with 0\n",
    "df['ICU'].fillna(value=0, inplace=True)\n",
    "df['NICU'].fillna(value=0, inplace=True)"
   ]
  },
  {
   "cell_type": "markdown",
   "metadata": {},
   "source": [
    "## Final preparation of the dataset"
   ]
  },
  {
   "cell_type": "code",
   "execution_count": 501,
   "metadata": {},
   "outputs": [],
   "source": [
    "# Drop unnecessary columns\n",
    "df.drop(columns=['ADMISSION_LOCATION','SUBJECT_ID', 'HADM_ID', 'ADMITTIME', 'ADMISSION_LOCATION',\n",
    "                'DISCHARGE_LOCATION', 'LANGUAGE',\n",
    "                'DIAGNOSIS', 'DECEASED',  'DEATHTIME'], inplace=True)\n",
    " df.drop(columns=['DOB','DOD','DOD_HOSP','DOD_SSN','ROW_ID','RELIGION'], inplace=True)"
   ]
  },
  {
   "cell_type": "code",
   "execution_count": 503,
   "metadata": {},
   "outputs": [],
   "source": [
    "# Filtering only admission with LOS less than 40 days to reduce the skewness of the data.\n",
    "df = df[df['LOS'] <40]"
   ]
  },
  {
   "cell_type": "code",
   "execution_count": 511,
   "metadata": {},
   "outputs": [],
   "source": [
    "# Randomly splitting the data into test and train with 20% and 80% distribution. Using the train data to generate\n",
    "# synthetic data and keeping the test data seperate for evaluation purpose\n",
    "\n",
    "los_use, los_predict = train_test_split(df, test_size=0.2, random_state=25)"
   ]
  },
  {
   "cell_type": "code",
   "execution_count": 512,
   "metadata": {},
   "outputs": [],
   "source": [
    "# Writing the train and test files into csv for further use \n",
    "# Note: Train dataset will be used for generating synthetic data using T-GAN and CT-GAN.\n",
    "# Test dataset will be used for evaluation of models\n",
    "\n",
    "los_use.to_csv(\"los_usecase.csv\",index = False)\n",
    "los_predict.to_csv(\"los_predict.csv\",index = False)"
   ]
  }
 ],
 "metadata": {
  "kernelspec": {
   "display_name": "Python 3",
   "language": "python",
   "name": "python3"
  },
  "language_info": {
   "codemirror_mode": {
    "name": "ipython",
    "version": 3
   },
   "file_extension": ".py",
   "mimetype": "text/x-python",
   "name": "python",
   "nbconvert_exporter": "python",
   "pygments_lexer": "ipython3",
   "version": "3.7.6"
  }
 },
 "nbformat": 4,
 "nbformat_minor": 2
}
