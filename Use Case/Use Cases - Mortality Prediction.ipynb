{
 "cells": [
  {
   "cell_type": "markdown",
   "metadata": {},
   "source": [
    "## MIMIC-III Dataset\n",
    "\n",
    "We used MIMIC-III data for this project as it is an open source dataset and contains multiple tables which can be combined to prepare use cases. Data can be accesed on link provided below and in order to access data, few certifications are required which can be obtained by completing trainings on website. \n",
    "Medical Information Mart for Intensive Care Unit (MIMIC) III: Open source dataset developed by the MIT Lab comprising de-identified health data is a comprehensive clinical dataset of 40,000+ patients admitted in ICU. Few salient features of this databases include:\n",
    "- <b> 26 tables:</b> Comprehensive clinical dataset with different tables\n",
    "- <b> 40,000+ patients:</b> Data associated with multiple admissions of patients\n",
    "- <b> 65,000+ ICU admissions:</b> Admitted in ICUs at Beth Israel Deaconess Medical Centre, Boston, from 2001 to 2012\n",
    "- <b> PII data:</b> Includes patient sensitive details like demographics, diagnosis, laboratory tests, medications etc.\n",
    "- <b> Use cases:</b> Can be used for multiple analysis like clinical data (prescriptions), claims data (payer), members data (patient)\n",
    "\n",
    "For this project, we focus on using specific tables from this database and create 2 different use cases which can be found in following section.\n",
    "\n",
    "Source: https://mimic.physionet.org/gettingstarted/overview/"
   ]
  },
  {
   "cell_type": "markdown",
   "metadata": {},
   "source": [
    "## Use Cases\n",
    "\n",
    "### Use Case 1: Length of Stay - Vibhav to complete this\n",
    "\n",
    "Predicting the length of stay in ICU using 4 out of 26 tables\n",
    "\n",
    "\n",
    "Use case: Out of variety of possible use cases from MIMIC III dataset we focus on single use case to predict the number of days a patient stays in the hospital to further generate synthetic data\n",
    "\n",
    "6984 ICD-9 codes: The diagnosis dataset contains unique International Classification of Disease (ICD-9) codes\n",
    "\n",
    "17 primary categories: We consider categories of conditions for the predictive modeling\n"
   ]
  },
  {
   "cell_type": "markdown",
   "metadata": {},
   "source": [
    "### Use Case 2: Mortality Prediction\n",
    "\n",
    "Another use case which we implemented using MIMIC-III dataset is for mortality prediction. This use case is inspired by Kaggle kernel (reference below) where one can predict mortality just by the number of interactions betweeen patient and hospital as predictors through count of lab tests, prescriptions, and procedures. It can be used to evaluate privacy risk with the help of PII columns like GENDER, ETHNICITY, MARITAL_STATUS and also serves as classification problem where we have to predict if patient will expire or not for a single hospital admission.\n",
    "\n",
    "Reference: https://www.kaggle.com/drscarlat/predict-hospital-mortality-mimic3\n",
    "\n",
    "#### Tables Used\n",
    "1. Patients - SUBJECT_ID, GENDER\n",
    "2. Admissions - SUBJECT_ID, HADM_ID, HOSPITAL_EXPIRE_FLAG, MARITAL_STATUS, ETHNICITY, ADMISSION_TYPE\n",
    "3. CallOut - SUBJECT_ID, HADM_ID, NUMCALLOUT (count of rows)\n",
    "4. CPTEvents - SUBJECT_ID, HADM_ID, NUMCPTEVENTS (count of rows)\n",
    "5. Diagnosis_ICD - SUBJECT_ID, HADM_ID, NUMDIAGNOSIS (count of rows)\n",
    "6. Inputevents_CV - SUBJECT_ID, HADM_ID, NUMINPUTEVENTS (count of rows)\n",
    "7. Labevents - SUBJECT_ID, HADM_ID, NUMLABEVENTS (count of rows)\n",
    "8. Noteevents - SUBJECT_ID, HADM_ID,  NUMNOTEVENTS (count of rows)\n",
    "9. Outputevents - SUBJECT_ID, HADM_ID, NUMOUTEVENTS (count of rows)\n",
    "10. Prescriptions - SUBJECT_ID, HADM_ID, NUMRX (count of rows)\n",
    "11. Procedureevents_mv - SUBJECT_ID, HADM_ID, NUMPROCEVENTS (count of rows)\n",
    "12. microbilogyevents - SUBJECT_ID, HADM_ID, NUMMICROLABEVENTS (count of rows)\n",
    "13. Procedures_icd - SUBJECT_ID, HADM_ID, NUMPROC (count of rows)\n",
    "14. Transfers - SUBJECT_ID, HADM_ID, NUMTRANSFERS (count of rows)\n",
    "\n",
    "\n",
    "\n",
    "#### Final data includes\n",
    "- <b> Level of data:</b> Each instance in the final data set is one admission and is defined by 'SUBJECT_ID', 'HADM_ID'\n",
    "- <b> Target Variables:</b> 'HOSPITAL_EXPIRY_FLAG' is used as target variable\n",
    "- <b> Predictor variables:</b> 'ADMISSION_TYPE', 'MARITAL_STATUS', 'ETHNICITY', 'HOSPITAL_EXPIRE_FLAG', 'GENDER', 'NUMCALLOUT', 'NUMCPTEVENTS', 'NUMDIAGNOSIS', 'NUMOUTEVENTS', 'NUMRX', 'NUMPROCEVENTS', 'NUMMICROLABEVENTS', 'NUMPROC', 'NUMTRANSFERS', 'NUMINPUTEVENTS', 'NUMLABEVENTS', 'NUMNOTEVENTS'"
   ]
  },
  {
   "cell_type": "markdown",
   "metadata": {},
   "source": [
    "#### Methodology\n",
    "1. <b> Load csv files:</b> Read the comma seperated files donwloaded from link (https://mimic.physionet.org/gettingstarted/overview/)\n",
    "2. <b> Roll up tables:</b> We need count of various events or iteractions between patients and hospital. In order to do this, group by or aggregate the tables at 'SUBJECT_ID' and 'HADM_ID' level and take count of number of rows for each. This will give total count fo events related to single hospital admission.\n",
    "3. <b> Merge tables: </b> Use 'SUBJECT_ID' and 'HADM_ID' as composite key to merge all tables together and create final analytical data set."
   ]
  },
  {
   "cell_type": "markdown",
   "metadata": {},
   "source": [
    "#### Code\n",
    "1. Import required libraries and read csv files\n",
    "2. Function to roll up tables\n",
    "3. Merge all tables\n",
    "4. Exploratory Analysis"
   ]
  },
  {
   "cell_type": "markdown",
   "metadata": {},
   "source": [
    "#### 1. Import required libraries and read csv files"
   ]
  },
  {
   "cell_type": "code",
   "execution_count": 1,
   "metadata": {},
   "outputs": [],
   "source": [
    "import pandas as pd\n",
    "import matplotlib.pyplot as plt\n",
    "from sklearn.model_selection import train_test_split\n",
    "import warnings\n",
    "warnings.filterwarnings('ignore')"
   ]
  },
  {
   "cell_type": "code",
   "execution_count": 2,
   "metadata": {},
   "outputs": [],
   "source": [
    "patients = pd.read_csv(\"data/patients.csv\")\n",
    "admissions = pd.read_csv(\"data/admissions.csv\")\n",
    "callout = pd.read_csv(\"data/callout.csv\")\n",
    "cptevents = pd.read_csv(\"data/cptevents.csv\")\n",
    "diagnosis = pd.read_csv(\"data/diagnoses_icd.csv\")\n",
    "outputevents = pd.read_csv(\"data/outputevents.csv\")\n",
    "rx = pd.read_csv(\"data/prescriptions.csv\")\n",
    "procevents = pd.read_csv(\"data/procedureevents_mv.csv\")\n",
    "microlabevents = pd.read_csv(\"data/microbiologyevents.csv\")\n",
    "proc = pd.read_csv(\"data/procedures_icd.csv\")\n",
    "transfers = pd.read_csv(\"data/transfers.csv\")\n",
    "inputevents = pd.read_csv(\"data/inputevents_cv.csv\")\n",
    "labevents = pd.read_csv(\"data/labevents.csv\")\n",
    "noteevents = pd.read_csv(\"data/noteevents.csv\")"
   ]
  },
  {
   "cell_type": "markdown",
   "metadata": {},
   "source": [
    "#### 2. Function to roll up tables"
   ]
  },
  {
   "cell_type": "code",
   "execution_count": 3,
   "metadata": {},
   "outputs": [],
   "source": [
    "def rollup_sub_adm(df,col):\n",
    "    df=df.groupby(['SUBJECT_ID','HADM_ID']).agg({'ROW_ID':'count'})\n",
    "    df.reset_index(inplace=True)\n",
    "    df.columns=['SUBJECT_ID','HADM_ID',col]\n",
    "    print(col,\":\",df.shape)\n",
    "    return df"
   ]
  },
  {
   "cell_type": "code",
   "execution_count": 4,
   "metadata": {},
   "outputs": [
    {
     "name": "stdout",
     "output_type": "stream",
     "text": [
      "NUMCALLOUT : (28732, 3)\n",
      "NUMCPTEVENTS : (44148, 3)\n",
      "NUMDIAGNOSIS : (58976, 3)\n",
      "NUMOUTEVENTS : (52008, 3)\n",
      "NUMRX : (50216, 3)\n",
      "NUMPROCEVENTS : (21894, 3)\n",
      "NUMMICROLABEVENTS : (48740, 3)\n",
      "NUMPROC : (52243, 3)\n",
      "NUMTRANSFERS : (58976, 3)\n",
      "NUMINPUTEVENTS : (31970, 3)\n",
      "NUMLABEVENTS : (58151, 3)\n",
      "NUMNOTEVENTS : (58361, 3)\n"
     ]
    }
   ],
   "source": [
    "callout=rollup_sub_adm(callout,'NUMCALLOUT')\n",
    "cptevents=rollup_sub_adm(cptevents,'NUMCPTEVENTS')\n",
    "diagnosis=rollup_sub_adm(diagnosis,'NUMDIAGNOSIS')\n",
    "outputevents=rollup_sub_adm(outputevents,'NUMOUTEVENTS')\n",
    "rx=rollup_sub_adm(rx,'NUMRX')\n",
    "procevents=rollup_sub_adm(procevents,'NUMPROCEVENTS')\n",
    "microlabevents=rollup_sub_adm(microlabevents,'NUMMICROLABEVENTS')\n",
    "proc=rollup_sub_adm(proc,'NUMPROC')\n",
    "transfers=rollup_sub_adm(transfers,'NUMTRANSFERS')\n",
    "inputevents=rollup_sub_adm(inputevents,'NUMINPUTEVENTS')\n",
    "labevents=rollup_sub_adm(labevents,'NUMLABEVENTS')\n",
    "noteevents=rollup_sub_adm(noteevents,'NUMNOTEVENTS')"
   ]
  },
  {
   "cell_type": "markdown",
   "metadata": {},
   "source": [
    "#### 3. Merge all tables"
   ]
  },
  {
   "cell_type": "code",
   "execution_count": 5,
   "metadata": {},
   "outputs": [
    {
     "data": {
      "text/html": [
       "<div>\n",
       "<style scoped>\n",
       "    .dataframe tbody tr th:only-of-type {\n",
       "        vertical-align: middle;\n",
       "    }\n",
       "\n",
       "    .dataframe tbody tr th {\n",
       "        vertical-align: top;\n",
       "    }\n",
       "\n",
       "    .dataframe thead th {\n",
       "        text-align: right;\n",
       "    }\n",
       "</style>\n",
       "<table border=\"1\" class=\"dataframe\">\n",
       "  <thead>\n",
       "    <tr style=\"text-align: right;\">\n",
       "      <th></th>\n",
       "      <th>SUBJECT_ID</th>\n",
       "      <th>HADM_ID</th>\n",
       "      <th>ADMISSION_TYPE</th>\n",
       "      <th>MARITAL_STATUS</th>\n",
       "      <th>ETHNICITY</th>\n",
       "      <th>HOSPITAL_EXPIRE_FLAG</th>\n",
       "      <th>GENDER</th>\n",
       "      <th>NUMCALLOUT</th>\n",
       "      <th>NUMCPTEVENTS</th>\n",
       "      <th>NUMDIAGNOSIS</th>\n",
       "      <th>NUMOUTEVENTS</th>\n",
       "      <th>NUMRX</th>\n",
       "      <th>NUMPROCEVENTS</th>\n",
       "      <th>NUMMICROLABEVENTS</th>\n",
       "      <th>NUMPROC</th>\n",
       "      <th>NUMTRANSFERS</th>\n",
       "      <th>NUMINPUTEVENTS</th>\n",
       "      <th>NUMLABEVENTS</th>\n",
       "      <th>NUMNOTEVENTS</th>\n",
       "    </tr>\n",
       "  </thead>\n",
       "  <tbody>\n",
       "    <tr>\n",
       "      <td>0</td>\n",
       "      <td>22</td>\n",
       "      <td>165315</td>\n",
       "      <td>EMERGENCY</td>\n",
       "      <td>MARRIED</td>\n",
       "      <td>WHITE</td>\n",
       "      <td>0</td>\n",
       "      <td>F</td>\n",
       "      <td>0.0</td>\n",
       "      <td>0.0</td>\n",
       "      <td>7</td>\n",
       "      <td>7.0</td>\n",
       "      <td>0.0</td>\n",
       "      <td>0.0</td>\n",
       "      <td>1.0</td>\n",
       "      <td>3.0</td>\n",
       "      <td>2</td>\n",
       "      <td>6.0</td>\n",
       "      <td>91.0</td>\n",
       "      <td>10.0</td>\n",
       "    </tr>\n",
       "    <tr>\n",
       "      <td>1</td>\n",
       "      <td>23</td>\n",
       "      <td>152223</td>\n",
       "      <td>ELECTIVE</td>\n",
       "      <td>MARRIED</td>\n",
       "      <td>WHITE</td>\n",
       "      <td>0</td>\n",
       "      <td>M</td>\n",
       "      <td>0.0</td>\n",
       "      <td>0.0</td>\n",
       "      <td>8</td>\n",
       "      <td>62.0</td>\n",
       "      <td>69.0</td>\n",
       "      <td>0.0</td>\n",
       "      <td>1.0</td>\n",
       "      <td>7.0</td>\n",
       "      <td>4</td>\n",
       "      <td>180.0</td>\n",
       "      <td>208.0</td>\n",
       "      <td>12.0</td>\n",
       "    </tr>\n",
       "    <tr>\n",
       "      <td>2</td>\n",
       "      <td>23</td>\n",
       "      <td>124321</td>\n",
       "      <td>EMERGENCY</td>\n",
       "      <td>MARRIED</td>\n",
       "      <td>WHITE</td>\n",
       "      <td>0</td>\n",
       "      <td>M</td>\n",
       "      <td>1.0</td>\n",
       "      <td>6.0</td>\n",
       "      <td>10</td>\n",
       "      <td>29.0</td>\n",
       "      <td>69.0</td>\n",
       "      <td>4.0</td>\n",
       "      <td>1.0</td>\n",
       "      <td>1.0</td>\n",
       "      <td>5</td>\n",
       "      <td>0.0</td>\n",
       "      <td>221.0</td>\n",
       "      <td>17.0</td>\n",
       "    </tr>\n",
       "    <tr>\n",
       "      <td>3</td>\n",
       "      <td>24</td>\n",
       "      <td>161859</td>\n",
       "      <td>EMERGENCY</td>\n",
       "      <td>SINGLE</td>\n",
       "      <td>WHITE</td>\n",
       "      <td>0</td>\n",
       "      <td>M</td>\n",
       "      <td>0.0</td>\n",
       "      <td>4.0</td>\n",
       "      <td>4</td>\n",
       "      <td>2.0</td>\n",
       "      <td>26.0</td>\n",
       "      <td>0.0</td>\n",
       "      <td>0.0</td>\n",
       "      <td>6.0</td>\n",
       "      <td>3</td>\n",
       "      <td>50.0</td>\n",
       "      <td>99.0</td>\n",
       "      <td>5.0</td>\n",
       "    </tr>\n",
       "    <tr>\n",
       "      <td>4</td>\n",
       "      <td>25</td>\n",
       "      <td>129635</td>\n",
       "      <td>EMERGENCY</td>\n",
       "      <td>MARRIED</td>\n",
       "      <td>WHITE</td>\n",
       "      <td>0</td>\n",
       "      <td>M</td>\n",
       "      <td>0.0</td>\n",
       "      <td>4.0</td>\n",
       "      <td>4</td>\n",
       "      <td>59.0</td>\n",
       "      <td>67.0</td>\n",
       "      <td>0.0</td>\n",
       "      <td>2.0</td>\n",
       "      <td>9.0</td>\n",
       "      <td>4</td>\n",
       "      <td>483.0</td>\n",
       "      <td>315.0</td>\n",
       "      <td>20.0</td>\n",
       "    </tr>\n",
       "  </tbody>\n",
       "</table>\n",
       "</div>"
      ],
      "text/plain": [
       "   SUBJECT_ID  HADM_ID ADMISSION_TYPE MARITAL_STATUS ETHNICITY  \\\n",
       "0          22   165315      EMERGENCY        MARRIED     WHITE   \n",
       "1          23   152223       ELECTIVE        MARRIED     WHITE   \n",
       "2          23   124321      EMERGENCY        MARRIED     WHITE   \n",
       "3          24   161859      EMERGENCY         SINGLE     WHITE   \n",
       "4          25   129635      EMERGENCY        MARRIED     WHITE   \n",
       "\n",
       "   HOSPITAL_EXPIRE_FLAG GENDER  NUMCALLOUT  NUMCPTEVENTS  NUMDIAGNOSIS  \\\n",
       "0                     0      F         0.0           0.0             7   \n",
       "1                     0      M         0.0           0.0             8   \n",
       "2                     0      M         1.0           6.0            10   \n",
       "3                     0      M         0.0           4.0             4   \n",
       "4                     0      M         0.0           4.0             4   \n",
       "\n",
       "   NUMOUTEVENTS  NUMRX  NUMPROCEVENTS  NUMMICROLABEVENTS  NUMPROC  \\\n",
       "0           7.0    0.0            0.0                1.0      3.0   \n",
       "1          62.0   69.0            0.0                1.0      7.0   \n",
       "2          29.0   69.0            4.0                1.0      1.0   \n",
       "3           2.0   26.0            0.0                0.0      6.0   \n",
       "4          59.0   67.0            0.0                2.0      9.0   \n",
       "\n",
       "   NUMTRANSFERS  NUMINPUTEVENTS  NUMLABEVENTS  NUMNOTEVENTS  \n",
       "0             2             6.0          91.0          10.0  \n",
       "1             4           180.0         208.0          12.0  \n",
       "2             5             0.0         221.0          17.0  \n",
       "3             3            50.0          99.0           5.0  \n",
       "4             4           483.0         315.0          20.0  "
      ]
     },
     "execution_count": 5,
     "metadata": {},
     "output_type": "execute_result"
    }
   ],
   "source": [
    "mortality=admissions[['SUBJECT_ID','HADM_ID','ADMISSION_TYPE','MARITAL_STATUS','ETHNICITY','HOSPITAL_EXPIRE_FLAG']]\n",
    "mortality.loc[pd.isnull(mortality['MARITAL_STATUS']),'MARITAL_STATUS'] ='UNKNOWN (DEFAULT)'\n",
    "mortality = mortality.merge(patients[['SUBJECT_ID','GENDER']],how='left',on='SUBJECT_ID')\n",
    "mortality = mortality.merge(callout,how='left',on=['SUBJECT_ID','HADM_ID'])\n",
    "mortality = mortality.merge(cptevents,how='left',on=['SUBJECT_ID','HADM_ID'])\n",
    "mortality = mortality.merge(diagnosis,how='left',on=['SUBJECT_ID','HADM_ID'])\n",
    "mortality = mortality.merge(outputevents,how='left',on=['SUBJECT_ID','HADM_ID'])\n",
    "mortality = mortality.merge(rx,how='left',on=['SUBJECT_ID','HADM_ID'])\n",
    "mortality = mortality.merge(procevents,how='left',on=['SUBJECT_ID','HADM_ID'])\n",
    "mortality = mortality.merge(microlabevents,how='left',on=['SUBJECT_ID','HADM_ID'])\n",
    "mortality = mortality.merge(proc,how='left',on=['SUBJECT_ID','HADM_ID'])\n",
    "mortality = mortality.merge(transfers,how='left',on=['SUBJECT_ID','HADM_ID'])\n",
    "mortality = mortality.merge(inputevents,how='left',on=['SUBJECT_ID','HADM_ID'])\n",
    "mortality = mortality.merge(labevents,how='left',on=['SUBJECT_ID','HADM_ID'])\n",
    "mortality = mortality.merge(noteevents,how='left',on=['SUBJECT_ID','HADM_ID'])\n",
    "mortality = mortality.fillna(0)\n",
    "mortality.head()"
   ]
  },
  {
   "cell_type": "code",
   "execution_count": 6,
   "metadata": {},
   "outputs": [],
   "source": [
    "#Exporing data\n",
    "mortality.to_csv('mortality_full_data.csv',index=False)"
   ]
  },
  {
   "cell_type": "markdown",
   "metadata": {},
   "source": [
    "#### 4. Exploratory Analysis"
   ]
  },
  {
   "cell_type": "code",
   "execution_count": 7,
   "metadata": {},
   "outputs": [
    {
     "data": {
      "text/plain": [
       "(58976, 19)"
      ]
     },
     "execution_count": 7,
     "metadata": {},
     "output_type": "execute_result"
    }
   ],
   "source": [
    "mortality.shape"
   ]
  },
  {
   "cell_type": "code",
   "execution_count": 8,
   "metadata": {},
   "outputs": [
    {
     "data": {
      "text/plain": [
       "Index(['SUBJECT_ID', 'HADM_ID', 'ADMISSION_TYPE', 'MARITAL_STATUS',\n",
       "       'ETHNICITY', 'HOSPITAL_EXPIRE_FLAG', 'GENDER', 'NUMCALLOUT',\n",
       "       'NUMCPTEVENTS', 'NUMDIAGNOSIS', 'NUMOUTEVENTS', 'NUMRX',\n",
       "       'NUMPROCEVENTS', 'NUMMICROLABEVENTS', 'NUMPROC', 'NUMTRANSFERS',\n",
       "       'NUMINPUTEVENTS', 'NUMLABEVENTS', 'NUMNOTEVENTS'],\n",
       "      dtype='object')"
      ]
     },
     "execution_count": 8,
     "metadata": {},
     "output_type": "execute_result"
    }
   ],
   "source": [
    "mortality.columns"
   ]
  },
  {
   "cell_type": "code",
   "execution_count": 9,
   "metadata": {},
   "outputs": [
    {
     "data": {
      "image/png": "[encoded data removed]",
      "text/plain": [
       "<Figure size 432x288 with 1 Axes>"
      ]
     },
     "metadata": {
      "needs_background": "light"
     },
     "output_type": "display_data"
    }
   ],
   "source": [
    "mortality.groupby('HOSPITAL_EXPIRE_FLAG').size().plot.bar()\n",
    "plt.show()"
   ]
  },
  {
   "cell_type": "code",
   "execution_count": 10,
   "metadata": {},
   "outputs": [
    {
     "data": {
      "image/png": "[encoded data removed]",
      "text/plain": [
       "<Figure size 432x288 with 1 Axes>"
      ]
     },
     "metadata": {
      "needs_background": "light"
     },
     "output_type": "display_data"
    }
   ],
   "source": [
    "mortality.groupby('GENDER').size().plot.bar()\n",
    "plt.show()"
   ]
  },
  {
   "cell_type": "code",
   "execution_count": 11,
   "metadata": {},
   "outputs": [
    {
     "data": {
      "image/png": "[encoded data removed]",
      "text/plain": [
       "<Figure size 432x288 with 1 Axes>"
      ]
     },
     "metadata": {
      "needs_background": "light"
     },
     "output_type": "display_data"
    }
   ],
   "source": [
    "mortality.groupby('MARITAL_STATUS').size().plot.bar()\n",
    "plt.show()"
   ]
  },
  {
   "cell_type": "code",
   "execution_count": 12,
   "metadata": {},
   "outputs": [
    {
     "data": {
      "image/png": "[encoded data removed]",
      "text/plain": [
       "<Figure size 432x288 with 1 Axes>"
      ]
     },
     "metadata": {
      "needs_background": "light"
     },
     "output_type": "display_data"
    }
   ],
   "source": [
    "mortality.groupby('ADMISSION_TYPE').size().plot.bar()\n",
    "plt.show()"
   ]
  },
  {
   "cell_type": "code",
   "execution_count": 13,
   "metadata": {},
   "outputs": [
    {
     "data": {
      "image/png": "[encoded data removed]",
      "text/plain": [
       "<Figure size 432x288 with 1 Axes>"
      ]
     },
     "metadata": {
      "needs_background": "light"
     },
     "output_type": "display_data"
    }
   ],
   "source": [
    "mortality.groupby('NUMLABEVENTS').size().plot.hist(bins=50)\n",
    "plt.show()"
   ]
  },
  {
   "cell_type": "code",
   "execution_count": 14,
   "metadata": {},
   "outputs": [
    {
     "data": {
      "text/plain": [
       "SUBJECT_ID                int64\n",
       "HADM_ID                   int64\n",
       "ADMISSION_TYPE           object\n",
       "MARITAL_STATUS           object\n",
       "ETHNICITY                object\n",
       "HOSPITAL_EXPIRE_FLAG      int64\n",
       "GENDER                   object\n",
       "NUMCALLOUT              float64\n",
       "NUMCPTEVENTS            float64\n",
       "NUMDIAGNOSIS              int64\n",
       "NUMOUTEVENTS            float64\n",
       "NUMRX                   float64\n",
       "NUMPROCEVENTS           float64\n",
       "NUMMICROLABEVENTS       float64\n",
       "NUMPROC                 float64\n",
       "NUMTRANSFERS              int64\n",
       "NUMINPUTEVENTS          float64\n",
       "NUMLABEVENTS            float64\n",
       "NUMNOTEVENTS            float64\n",
       "dtype: object"
      ]
     },
     "execution_count": 14,
     "metadata": {},
     "output_type": "execute_result"
    }
   ],
   "source": [
    "mortality.dtypes"
   ]
  }
 ],
 "metadata": {
  "kernelspec": {
   "display_name": "Python 3",
   "language": "python",
   "name": "python3"
  },
  "language_info": {
   "codemirror_mode": {
    "name": "ipython",
    "version": 3
   },
   "file_extension": ".py",
   "mimetype": "text/x-python",
   "name": "python",
   "nbconvert_exporter": "python",
   "pygments_lexer": "ipython3",
   "version": "3.7.4"
  }
 },
 "nbformat": 4,
 "nbformat_minor": 2
}
